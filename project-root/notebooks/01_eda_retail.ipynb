{
    "cells": [
        {
            "cell_type": "markdown",
            "id": "623b0b4f",
            "metadata": {},
            "source": [
                "# Exploratory Data Analysis (EDA) - Retail Data"
            ]
        },
        {
            "cell_type": "markdown",
            "id": "eac8f306",
            "metadata": {},
            "source": [
                "- Analyze numerical features (distributions, outliers).\n",
                "    \n",
                "- Analyze categorical features (value counts, unique categories).\n",
                "    \n",
                "- Identify and quantify missing values.\n",
                "    \n",
                "- Explore basic relationships (e.g., transactions over time, product categories)."
            ]
        },
        {
            "cell_type": "markdown",
            "id": "f37c2931",
            "metadata": {},
            "source": [
                "## Data Loading & Initial Inspection"
            ]
        },
        {
            "cell_type": "code",
            "execution_count": 1,
            "id": "9a4b3605",
            "metadata": {},
            "outputs": [],
            "source": [
                "import pandas as pd\n",
                "import numpy as np\n",
                "import matplotlib.pyplot as plt\n",
                "import seaborn as sns"
            ]
        },
        {
            "cell_type": "code",
            "execution_count": 2,
            "id": "de67ac80",
            "metadata": {},
            "outputs": [],
            "source": [
                "# Define file paths\n",
                "retail_path = \"../data/raw/retail_data.csv\"\n",
                "marketing_path = \"../data/raw/marketing_campaign.csv\"\n",
                "finance_path = \"../data/raw/finance_risk.csv\""
            ]
        },
        {
            "cell_type": "code",
            "execution_count": 3,
            "id": "92c20540",
            "metadata": {},
            "outputs": [
                {
                    "name": "stdout",
                    "output_type": "stream",
                    "text": [
                        "'../data/raw/retail_data.csv' loaded successfully.\n",
                        "'../data/raw/marketing_campaign.csv' loaded successfully.\n",
                        "'../data/raw/finance_risk.csv' loaded successfully.\n"
                    ]
                }
            ],
            "source": [
                "try:\n",
                "    # Load retail_data.csv\n",
                "    df_retail = pd.read_csv(retail_path)\n",
                "    print(f\"'{retail_path}' loaded successfully.\")\n",
                "\n",
                "    # Load marketing_campaign.csv\n",
                "    df_marketing = pd.read_csv(marketing_path)\n",
                "    print(f\"'{marketing_path}' loaded successfully.\")\n",
                "\n",
                "    # Load finance_risk.csv\n",
                "    df_finance = pd.read_csv(finance_path)\n",
                "    print(f\"'{finance_path}' loaded successfully.\")\n",
                "\n",
                "except FileNotFoundError as e:\n",
                "    print(f\"Error: {e}. Make sure the CSV files are in the 'data/raw/' directory.\")\n",
                "    # Exit or handle gracefully if files are not found\n",
                "    exit()"
            ]
        },
        {
            "cell_type": "markdown",
            "id": "5e139713",
            "metadata": {},
            "source": [
                "### Information Retail Data"
            ]
        },
        {
            "cell_type": "code",
            "execution_count": 4,
            "id": "4de0607a",
            "metadata": {},
            "outputs": [
                {
                    "name": "stdout",
                    "output_type": "stream",
                    "text": [
                        "Initial Inspection: df_retail\n",
                        "Shape: (100000, 21)\n",
                        "\n",
                        "Info:\n",
                        "<class 'pandas.core.frame.DataFrame'>\n",
                        "RangeIndex: 100000 entries, 0 to 99999\n",
                        "Data columns (total 21 columns):\n",
                        " #   Column              Non-Null Count   Dtype  \n",
                        "---  ------              --------------   -----  \n",
                        " 0   UserID              100000 non-null  int64  \n",
                        " 1   UserName            100000 non-null  object \n",
                        " 2   Age                 100000 non-null  int64  \n",
                        " 3   Gender              100000 non-null  object \n",
                        " 4   Country             100000 non-null  object \n",
                        " 5   SignUpDate          100000 non-null  object \n",
                        " 6   ProductID           100000 non-null  int64  \n",
                        " 7   ProductName         100000 non-null  object \n",
                        " 8   Category            100000 non-null  object \n",
                        " 9   Price               100000 non-null  float64\n",
                        " 10  PurchaseDate        100000 non-null  object \n",
                        " 11  Quantity            100000 non-null  int64  \n",
                        " 12  TotalAmount         100000 non-null  float64\n",
                        " 13  HasDiscountApplied  100000 non-null  bool   \n",
                        " 14  DiscountRate        100000 non-null  float64\n",
                        " 15  ReviewScore         100000 non-null  float64\n",
                        " 16  ReviewText          100000 non-null  object \n",
                        " 17  LastLogin           100000 non-null  object \n",
                        " 18  SessionDuration     100000 non-null  float64\n",
                        " 19  DeviceType          100000 non-null  object \n",
                        " 20  ReferralSource      100000 non-null  object \n",
                        "dtypes: bool(1), float64(5), int64(4), object(11)\n",
                        "memory usage: 15.4+ MB\n"
                    ]
                }
            ],
            "source": [
                "print(\"Initial Inspection: df_retail\")\n",
                "print(\"Shape:\", df_retail.shape)\n",
                "print(\"\\nInfo:\")\n",
                "df_retail.info()"
            ]
        },
        {
            "cell_type": "code",
            "execution_count": 5,
            "id": "dbd37396",
            "metadata": {},
            "outputs": [
                {
                    "data": {
                        "text/html": [
                            "<div>\n",
                            "<style scoped>\n",
                            "    .dataframe tbody tr th:only-of-type {\n",
                            "        vertical-align: middle;\n",
                            "    }\n",
                            "\n",
                            "    .dataframe tbody tr th {\n",
                            "        vertical-align: top;\n",
                            "    }\n",
                            "\n",
                            "    .dataframe thead th {\n",
                            "        text-align: right;\n",
                            "    }\n",
                            "</style>\n",
                            "<table border=\"1\" class=\"dataframe\">\n",
                            "  <thead>\n",
                            "    <tr style=\"text-align: right;\">\n",
                            "      <th></th>\n",
                            "      <th>UserID</th>\n",
                            "      <th>UserName</th>\n",
                            "      <th>Age</th>\n",
                            "      <th>Gender</th>\n",
                            "      <th>Country</th>\n",
                            "      <th>SignUpDate</th>\n",
                            "      <th>ProductID</th>\n",
                            "      <th>ProductName</th>\n",
                            "      <th>Category</th>\n",
                            "      <th>Price</th>\n",
                            "      <th>...</th>\n",
                            "      <th>Quantity</th>\n",
                            "      <th>TotalAmount</th>\n",
                            "      <th>HasDiscountApplied</th>\n",
                            "      <th>DiscountRate</th>\n",
                            "      <th>ReviewScore</th>\n",
                            "      <th>ReviewText</th>\n",
                            "      <th>LastLogin</th>\n",
                            "      <th>SessionDuration</th>\n",
                            "      <th>DeviceType</th>\n",
                            "      <th>ReferralSource</th>\n",
                            "    </tr>\n",
                            "  </thead>\n",
                            "  <tbody>\n",
                            "    <tr>\n",
                            "      <th>0</th>\n",
                            "      <td>1</td>\n",
                            "      <td>User_1</td>\n",
                            "      <td>39</td>\n",
                            "      <td>Male</td>\n",
                            "      <td>UK</td>\n",
                            "      <td>2021-02-01</td>\n",
                            "      <td>8190</td>\n",
                            "      <td>Shoes</td>\n",
                            "      <td>Books</td>\n",
                            "      <td>532.37</td>\n",
                            "      <td>...</td>\n",
                            "      <td>1</td>\n",
                            "      <td>532.37</td>\n",
                            "      <td>False</td>\n",
                            "      <td>0.02</td>\n",
                            "      <td>5.1</td>\n",
                            "      <td>Excellent</td>\n",
                            "      <td>2024-05-03 04:04:27.591583</td>\n",
                            "      <td>45.02</td>\n",
                            "      <td>Mobile</td>\n",
                            "      <td>Social Media</td>\n",
                            "    </tr>\n",
                            "    <tr>\n",
                            "      <th>1</th>\n",
                            "      <td>2</td>\n",
                            "      <td>User_2</td>\n",
                            "      <td>25</td>\n",
                            "      <td>Female</td>\n",
                            "      <td>Canada</td>\n",
                            "      <td>2020-12-04</td>\n",
                            "      <td>9527</td>\n",
                            "      <td>T-shirt</td>\n",
                            "      <td>Accessories</td>\n",
                            "      <td>848.83</td>\n",
                            "      <td>...</td>\n",
                            "      <td>1</td>\n",
                            "      <td>848.83</td>\n",
                            "      <td>True</td>\n",
                            "      <td>0.29</td>\n",
                            "      <td>5.1</td>\n",
                            "      <td>Excellent</td>\n",
                            "      <td>2024-08-31 04:04:27.591606</td>\n",
                            "      <td>13.83</td>\n",
                            "      <td>Mobile</td>\n",
                            "      <td>Social Media</td>\n",
                            "    </tr>\n",
                            "    <tr>\n",
                            "      <th>2</th>\n",
                            "      <td>3</td>\n",
                            "      <td>User_3</td>\n",
                            "      <td>43</td>\n",
                            "      <td>Male</td>\n",
                            "      <td>Canada</td>\n",
                            "      <td>2022-07-08</td>\n",
                            "      <td>3299</td>\n",
                            "      <td>Headphones</td>\n",
                            "      <td>Apparel</td>\n",
                            "      <td>64.88</td>\n",
                            "      <td>...</td>\n",
                            "      <td>2</td>\n",
                            "      <td>129.76</td>\n",
                            "      <td>False</td>\n",
                            "      <td>0.03</td>\n",
                            "      <td>3.2</td>\n",
                            "      <td>Good</td>\n",
                            "      <td>2024-07-28 04:04:27.591611</td>\n",
                            "      <td>59.09</td>\n",
                            "      <td>Tablet</td>\n",
                            "      <td>Organic Search</td>\n",
                            "    </tr>\n",
                            "    <tr>\n",
                            "      <th>3</th>\n",
                            "      <td>4</td>\n",
                            "      <td>User_4</td>\n",
                            "      <td>44</td>\n",
                            "      <td>Male</td>\n",
                            "      <td>Germany</td>\n",
                            "      <td>2021-06-07</td>\n",
                            "      <td>8795</td>\n",
                            "      <td>T-shirt</td>\n",
                            "      <td>Apparel</td>\n",
                            "      <td>465.08</td>\n",
                            "      <td>...</td>\n",
                            "      <td>2</td>\n",
                            "      <td>930.16</td>\n",
                            "      <td>False</td>\n",
                            "      <td>0.23</td>\n",
                            "      <td>4.3</td>\n",
                            "      <td>Good</td>\n",
                            "      <td>2024-03-11 04:04:27.591615</td>\n",
                            "      <td>55.42</td>\n",
                            "      <td>Desktop</td>\n",
                            "      <td>Email Marketing</td>\n",
                            "    </tr>\n",
                            "    <tr>\n",
                            "      <th>4</th>\n",
                            "      <td>5</td>\n",
                            "      <td>User_5</td>\n",
                            "      <td>23</td>\n",
                            "      <td>Female</td>\n",
                            "      <td>Canada</td>\n",
                            "      <td>2021-11-06</td>\n",
                            "      <td>1389</td>\n",
                            "      <td>Shoes</td>\n",
                            "      <td>Books</td>\n",
                            "      <td>331.82</td>\n",
                            "      <td>...</td>\n",
                            "      <td>1</td>\n",
                            "      <td>331.82</td>\n",
                            "      <td>False</td>\n",
                            "      <td>0.02</td>\n",
                            "      <td>5.1</td>\n",
                            "      <td>Average</td>\n",
                            "      <td>2024-07-02 04:04:27.591619</td>\n",
                            "      <td>14.99</td>\n",
                            "      <td>Tablet</td>\n",
                            "      <td>Email Marketing</td>\n",
                            "    </tr>\n",
                            "  </tbody>\n",
                            "</table>\n",
                            "<p>5 rows × 21 columns</p>\n",
                            "</div>"
                        ],
                        "text/plain": [
                            "   UserID UserName  Age  Gender  Country  SignUpDate  ProductID ProductName  \\\n",
                            "0       1   User_1   39    Male       UK  2021-02-01       8190       Shoes   \n",
                            "1       2   User_2   25  Female   Canada  2020-12-04       9527     T-shirt   \n",
                            "2       3   User_3   43    Male   Canada  2022-07-08       3299  Headphones   \n",
                            "3       4   User_4   44    Male  Germany  2021-06-07       8795     T-shirt   \n",
                            "4       5   User_5   23  Female   Canada  2021-11-06       1389       Shoes   \n",
                            "\n",
                            "      Category   Price  ... Quantity  TotalAmount  HasDiscountApplied  \\\n",
                            "0        Books  532.37  ...        1       532.37               False   \n",
                            "1  Accessories  848.83  ...        1       848.83                True   \n",
                            "2      Apparel   64.88  ...        2       129.76               False   \n",
                            "3      Apparel  465.08  ...        2       930.16               False   \n",
                            "4        Books  331.82  ...        1       331.82               False   \n",
                            "\n",
                            "   DiscountRate  ReviewScore  ReviewText                   LastLogin  \\\n",
                            "0          0.02          5.1   Excellent  2024-05-03 04:04:27.591583   \n",
                            "1          0.29          5.1   Excellent  2024-08-31 04:04:27.591606   \n",
                            "2          0.03          3.2        Good  2024-07-28 04:04:27.591611   \n",
                            "3          0.23          4.3        Good  2024-03-11 04:04:27.591615   \n",
                            "4          0.02          5.1     Average  2024-07-02 04:04:27.591619   \n",
                            "\n",
                            "  SessionDuration  DeviceType   ReferralSource  \n",
                            "0           45.02      Mobile     Social Media  \n",
                            "1           13.83      Mobile     Social Media  \n",
                            "2           59.09      Tablet   Organic Search  \n",
                            "3           55.42     Desktop  Email Marketing  \n",
                            "4           14.99      Tablet  Email Marketing  \n",
                            "\n",
                            "[5 rows x 21 columns]"
                        ]
                    },
                    "execution_count": 5,
                    "metadata": {},
                    "output_type": "execute_result"
                }
            ],
            "source": [
                "df_retail.head()"
            ]
        },
        {
            "cell_type": "code",
            "execution_count": 6,
            "id": "bff6b46f",
            "metadata": {},
            "outputs": [
                {
                    "name": "stdout",
                    "output_type": "stream",
                    "text": [
                        "Descriptive Statistics (Numerical):\n"
                    ]
                },
                {
                    "data": {
                        "text/html": [
                            "<div>\n",
                            "<style scoped>\n",
                            "    .dataframe tbody tr th:only-of-type {\n",
                            "        vertical-align: middle;\n",
                            "    }\n",
                            "\n",
                            "    .dataframe tbody tr th {\n",
                            "        vertical-align: top;\n",
                            "    }\n",
                            "\n",
                            "    .dataframe thead th {\n",
                            "        text-align: right;\n",
                            "    }\n",
                            "</style>\n",
                            "<table border=\"1\" class=\"dataframe\">\n",
                            "  <thead>\n",
                            "    <tr style=\"text-align: right;\">\n",
                            "      <th></th>\n",
                            "      <th>UserID</th>\n",
                            "      <th>Age</th>\n",
                            "      <th>ProductID</th>\n",
                            "      <th>Price</th>\n",
                            "      <th>Quantity</th>\n",
                            "      <th>TotalAmount</th>\n",
                            "      <th>DiscountRate</th>\n",
                            "      <th>ReviewScore</th>\n",
                            "      <th>SessionDuration</th>\n",
                            "    </tr>\n",
                            "  </thead>\n",
                            "  <tbody>\n",
                            "    <tr>\n",
                            "      <th>count</th>\n",
                            "      <td>100000.000000</td>\n",
                            "      <td>100000.000000</td>\n",
                            "      <td>100000.000000</td>\n",
                            "      <td>100000.000000</td>\n",
                            "      <td>100000.000000</td>\n",
                            "      <td>100000.000000</td>\n",
                            "      <td>100000.000000</td>\n",
                            "      <td>100000.000000</td>\n",
                            "      <td>100000.000000</td>\n",
                            "    </tr>\n",
                            "    <tr>\n",
                            "      <th>mean</th>\n",
                            "      <td>50000.500000</td>\n",
                            "      <td>43.460810</td>\n",
                            "      <td>5508.117230</td>\n",
                            "      <td>505.631966</td>\n",
                            "      <td>2.495690</td>\n",
                            "      <td>1260.852360</td>\n",
                            "      <td>0.249831</td>\n",
                            "      <td>4.006239</td>\n",
                            "      <td>62.408836</td>\n",
                            "    </tr>\n",
                            "    <tr>\n",
                            "      <th>std</th>\n",
                            "      <td>28867.657797</td>\n",
                            "      <td>14.980333</td>\n",
                            "      <td>2606.544036</td>\n",
                            "      <td>286.137505</td>\n",
                            "      <td>1.120354</td>\n",
                            "      <td>964.100243</td>\n",
                            "      <td>0.144505</td>\n",
                            "      <td>0.998750</td>\n",
                            "      <td>33.177372</td>\n",
                            "    </tr>\n",
                            "    <tr>\n",
                            "      <th>min</th>\n",
                            "      <td>1.000000</td>\n",
                            "      <td>18.000000</td>\n",
                            "      <td>1000.000000</td>\n",
                            "      <td>10.000000</td>\n",
                            "      <td>1.000000</td>\n",
                            "      <td>10.020000</td>\n",
                            "      <td>0.000000</td>\n",
                            "      <td>-0.600000</td>\n",
                            "      <td>5.000000</td>\n",
                            "    </tr>\n",
                            "    <tr>\n",
                            "      <th>25%</th>\n",
                            "      <td>25000.750000</td>\n",
                            "      <td>31.000000</td>\n",
                            "      <td>3228.000000</td>\n",
                            "      <td>257.137500</td>\n",
                            "      <td>1.000000</td>\n",
                            "      <td>494.677500</td>\n",
                            "      <td>0.130000</td>\n",
                            "      <td>3.300000</td>\n",
                            "      <td>33.720000</td>\n",
                            "    </tr>\n",
                            "    <tr>\n",
                            "      <th>50%</th>\n",
                            "      <td>50000.500000</td>\n",
                            "      <td>43.000000</td>\n",
                            "      <td>5520.000000</td>\n",
                            "      <td>505.950000</td>\n",
                            "      <td>2.000000</td>\n",
                            "      <td>966.080000</td>\n",
                            "      <td>0.250000</td>\n",
                            "      <td>4.000000</td>\n",
                            "      <td>62.415000</td>\n",
                            "    </tr>\n",
                            "    <tr>\n",
                            "      <th>75%</th>\n",
                            "      <td>75000.250000</td>\n",
                            "      <td>56.000000</td>\n",
                            "      <td>7776.000000</td>\n",
                            "      <td>753.732500</td>\n",
                            "      <td>4.000000</td>\n",
                            "      <td>1850.330000</td>\n",
                            "      <td>0.370000</td>\n",
                            "      <td>4.700000</td>\n",
                            "      <td>91.040000</td>\n",
                            "    </tr>\n",
                            "    <tr>\n",
                            "      <th>max</th>\n",
                            "      <td>100000.000000</td>\n",
                            "      <td>69.000000</td>\n",
                            "      <td>9998.000000</td>\n",
                            "      <td>999.980000</td>\n",
                            "      <td>4.000000</td>\n",
                            "      <td>3999.720000</td>\n",
                            "      <td>0.500000</td>\n",
                            "      <td>8.600000</td>\n",
                            "      <td>120.000000</td>\n",
                            "    </tr>\n",
                            "  </tbody>\n",
                            "</table>\n",
                            "</div>"
                        ],
                        "text/plain": [
                            "              UserID            Age      ProductID          Price  \\\n",
                            "count  100000.000000  100000.000000  100000.000000  100000.000000   \n",
                            "mean    50000.500000      43.460810    5508.117230     505.631966   \n",
                            "std     28867.657797      14.980333    2606.544036     286.137505   \n",
                            "min         1.000000      18.000000    1000.000000      10.000000   \n",
                            "25%     25000.750000      31.000000    3228.000000     257.137500   \n",
                            "50%     50000.500000      43.000000    5520.000000     505.950000   \n",
                            "75%     75000.250000      56.000000    7776.000000     753.732500   \n",
                            "max    100000.000000      69.000000    9998.000000     999.980000   \n",
                            "\n",
                            "            Quantity    TotalAmount   DiscountRate    ReviewScore  \\\n",
                            "count  100000.000000  100000.000000  100000.000000  100000.000000   \n",
                            "mean        2.495690    1260.852360       0.249831       4.006239   \n",
                            "std         1.120354     964.100243       0.144505       0.998750   \n",
                            "min         1.000000      10.020000       0.000000      -0.600000   \n",
                            "25%         1.000000     494.677500       0.130000       3.300000   \n",
                            "50%         2.000000     966.080000       0.250000       4.000000   \n",
                            "75%         4.000000    1850.330000       0.370000       4.700000   \n",
                            "max         4.000000    3999.720000       0.500000       8.600000   \n",
                            "\n",
                            "       SessionDuration  \n",
                            "count    100000.000000  \n",
                            "mean         62.408836  \n",
                            "std          33.177372  \n",
                            "min           5.000000  \n",
                            "25%          33.720000  \n",
                            "50%          62.415000  \n",
                            "75%          91.040000  \n",
                            "max         120.000000  "
                        ]
                    },
                    "execution_count": 6,
                    "metadata": {},
                    "output_type": "execute_result"
                }
            ],
            "source": [
                "print(\"Descriptive Statistics (Numerical):\")\n",
                "df_retail.describe()"
            ]
        },
        {
            "cell_type": "code",
            "execution_count": 7,
            "id": "b8f5025f",
            "metadata": {},
            "outputs": [
                {
                    "name": "stdout",
                    "output_type": "stream",
                    "text": [
                        "Descriptive Statistics (Categorical - Top 5):\n",
                        "\n",
                        "-- UserName --\n"
                    ]
                },
                {
                    "data": {
                        "text/plain": [
                            "UserName\n",
                            "User_1        1\n",
                            "User_66651    1\n",
                            "User_66673    1\n",
                            "User_66672    1\n",
                            "User_66671    1\n",
                            "Name: count, dtype: int64"
                        ]
                    },
                    "metadata": {},
                    "output_type": "display_data"
                },
                {
                    "name": "stdout",
                    "output_type": "stream",
                    "text": [
                        "-- Gender --\n"
                    ]
                },
                {
                    "data": {
                        "text/plain": [
                            "Gender\n",
                            "Non-Binary    33538\n",
                            "Male          33269\n",
                            "Female        33193\n",
                            "Name: count, dtype: int64"
                        ]
                    },
                    "metadata": {},
                    "output_type": "display_data"
                },
                {
                    "name": "stdout",
                    "output_type": "stream",
                    "text": [
                        "-- Country --\n"
                    ]
                },
                {
                    "data": {
                        "text/plain": [
                            "Country\n",
                            "USA          16844\n",
                            "Canada       16767\n",
                            "UK           16699\n",
                            "Germany      16582\n",
                            "Australia    16570\n",
                            "Name: count, dtype: int64"
                        ]
                    },
                    "metadata": {},
                    "output_type": "display_data"
                },
                {
                    "name": "stdout",
                    "output_type": "stream",
                    "text": [
                        "-- SignUpDate --\n"
                    ]
                },
                {
                    "data": {
                        "text/plain": [
                            "SignUpDate\n",
                            "2022-01-17    125\n",
                            "2022-11-20    122\n",
                            "2021-07-14    119\n",
                            "2020-11-22    117\n",
                            "2022-08-06    117\n",
                            "Name: count, dtype: int64"
                        ]
                    },
                    "metadata": {},
                    "output_type": "display_data"
                },
                {
                    "name": "stdout",
                    "output_type": "stream",
                    "text": [
                        "-- ProductName --\n"
                    ]
                },
                {
                    "data": {
                        "text/plain": [
                            "ProductName\n",
                            "T-shirt       14401\n",
                            "Headphones    14396\n",
                            "Book          14360\n",
                            "Watch         14287\n",
                            "Shoes         14261\n",
                            "Name: count, dtype: int64"
                        ]
                    },
                    "metadata": {},
                    "output_type": "display_data"
                },
                {
                    "name": "stdout",
                    "output_type": "stream",
                    "text": [
                        "-- Category --\n"
                    ]
                },
                {
                    "data": {
                        "text/plain": [
                            "Category\n",
                            "Apparel        25201\n",
                            "Accessories    25015\n",
                            "Electronics    24936\n",
                            "Books          24848\n",
                            "Name: count, dtype: int64"
                        ]
                    },
                    "metadata": {},
                    "output_type": "display_data"
                },
                {
                    "name": "stdout",
                    "output_type": "stream",
                    "text": [
                        "-- PurchaseDate --\n"
                    ]
                },
                {
                    "data": {
                        "text/plain": [
                            "PurchaseDate\n",
                            "2021-07-16    316\n",
                            "2021-07-05    314\n",
                            "2021-07-29    313\n",
                            "2021-03-22    313\n",
                            "2021-08-18    313\n",
                            "Name: count, dtype: int64"
                        ]
                    },
                    "metadata": {},
                    "output_type": "display_data"
                },
                {
                    "name": "stdout",
                    "output_type": "stream",
                    "text": [
                        "-- ReviewText --\n"
                    ]
                },
                {
                    "data": {
                        "text/plain": [
                            "ReviewText\n",
                            "Excellent    25035\n",
                            "Good         25029\n",
                            "Poor         24978\n",
                            "Average      24958\n",
                            "Name: count, dtype: int64"
                        ]
                    },
                    "metadata": {},
                    "output_type": "display_data"
                },
                {
                    "name": "stdout",
                    "output_type": "stream",
                    "text": [
                        "-- LastLogin --\n"
                    ]
                },
                {
                    "data": {
                        "text/plain": [
                            "LastLogin\n",
                            "2024-05-03 04:04:27.591583    1\n",
                            "2024-03-14 04:04:27.868778    1\n",
                            "2024-10-06 04:04:27.868870    1\n",
                            "2023-11-20 04:04:27.868865    1\n",
                            "2024-07-29 04:04:27.868862    1\n",
                            "Name: count, dtype: int64"
                        ]
                    },
                    "metadata": {},
                    "output_type": "display_data"
                },
                {
                    "name": "stdout",
                    "output_type": "stream",
                    "text": [
                        "-- DeviceType --\n"
                    ]
                },
                {
                    "data": {
                        "text/plain": [
                            "DeviceType\n",
                            "Mobile     33568\n",
                            "Tablet     33456\n",
                            "Desktop    32976\n",
                            "Name: count, dtype: int64"
                        ]
                    },
                    "metadata": {},
                    "output_type": "display_data"
                },
                {
                    "name": "stdout",
                    "output_type": "stream",
                    "text": [
                        "-- ReferralSource --\n"
                    ]
                },
                {
                    "data": {
                        "text/plain": [
                            "ReferralSource\n",
                            "Email Marketing    25154\n",
                            "Ad Campaign        25087\n",
                            "Organic Search     25021\n",
                            "Social Media       24738\n",
                            "Name: count, dtype: int64"
                        ]
                    },
                    "metadata": {},
                    "output_type": "display_data"
                }
            ],
            "source": [
                "print(\"Descriptive Statistics (Categorical - Top 5):\\n\")\n",
                "# Select object or categorical columns and show value counts for top 5\n",
                "for col in df_retail.select_dtypes(include=[\"object\", \"category\"]).columns:\n",
                "    print(f\"-- {col} --\")\n",
                "    display(df_retail[col].value_counts().head())"
            ]
        },
        {
            "cell_type": "markdown",
            "id": "fb55fb25",
            "metadata": {},
            "source": [
                "### Information Marketing Data"
            ]
        },
        {
            "cell_type": "code",
            "execution_count": 8,
            "id": "c16ad2b4",
            "metadata": {},
            "outputs": [
                {
                    "name": "stdout",
                    "output_type": "stream",
                    "text": [
                        "Initial Inspection: df_marketing\n",
                        "Shape: (50000, 10)\n",
                        "\n",
                        "Info:\n",
                        "<class 'pandas.core.frame.DataFrame'>\n",
                        "RangeIndex: 50000 entries, 0 to 49999\n",
                        "Data columns (total 10 columns):\n",
                        " #   Column           Non-Null Count  Dtype  \n",
                        "---  ------           --------------  -----  \n",
                        " 0   campaign_name    50000 non-null  object \n",
                        " 1   start_date       50000 non-null  object \n",
                        " 2   end_date         50000 non-null  object \n",
                        " 3   budget           50000 non-null  float64\n",
                        " 4   roi              50000 non-null  float64\n",
                        " 5   type             50000 non-null  object \n",
                        " 6   target_audience  50000 non-null  object \n",
                        " 7   channel          50000 non-null  object \n",
                        " 8   conversion_rate  50000 non-null  float64\n",
                        " 9   revenue          50000 non-null  float64\n",
                        "dtypes: float64(4), object(6)\n",
                        "memory usage: 3.8+ MB\n"
                    ]
                }
            ],
            "source": [
                "print(\"Initial Inspection: df_marketing\")\n",
                "print(\"Shape:\", df_marketing.shape)\n",
                "print(\"\\nInfo:\")\n",
                "df_marketing.info()"
            ]
        },
        {
            "cell_type": "code",
            "execution_count": 9,
            "id": "fc0c7646",
            "metadata": {},
            "outputs": [
                {
                    "name": "stdout",
                    "output_type": "stream",
                    "text": [
                        "First 5 Rows:\n"
                    ]
                },
                {
                    "data": {
                        "text/html": [
                            "<div>\n",
                            "<style scoped>\n",
                            "    .dataframe tbody tr th:only-of-type {\n",
                            "        vertical-align: middle;\n",
                            "    }\n",
                            "\n",
                            "    .dataframe tbody tr th {\n",
                            "        vertical-align: top;\n",
                            "    }\n",
                            "\n",
                            "    .dataframe thead th {\n",
                            "        text-align: right;\n",
                            "    }\n",
                            "</style>\n",
                            "<table border=\"1\" class=\"dataframe\">\n",
                            "  <thead>\n",
                            "    <tr style=\"text-align: right;\">\n",
                            "      <th></th>\n",
                            "      <th>campaign_name</th>\n",
                            "      <th>start_date</th>\n",
                            "      <th>end_date</th>\n",
                            "      <th>budget</th>\n",
                            "      <th>roi</th>\n",
                            "      <th>type</th>\n",
                            "      <th>target_audience</th>\n",
                            "      <th>channel</th>\n",
                            "      <th>conversion_rate</th>\n",
                            "      <th>revenue</th>\n",
                            "    </tr>\n",
                            "  </thead>\n",
                            "  <tbody>\n",
                            "    <tr>\n",
                            "      <th>0</th>\n",
                            "      <td>Expanded zero tolerance adapter</td>\n",
                            "      <td>2022-09-19</td>\n",
                            "      <td>2024-05-07</td>\n",
                            "      <td>80474.62</td>\n",
                            "      <td>0.86</td>\n",
                            "      <td>email</td>\n",
                            "      <td>B2C</td>\n",
                            "      <td>organic</td>\n",
                            "      <td>0.70</td>\n",
                            "      <td>394021.52</td>\n",
                            "    </tr>\n",
                            "    <tr>\n",
                            "      <th>1</th>\n",
                            "      <td>Managed even-keeled Internet solution</td>\n",
                            "      <td>2023-03-09</td>\n",
                            "      <td>2024-01-12</td>\n",
                            "      <td>81342.10</td>\n",
                            "      <td>0.66</td>\n",
                            "      <td>email</td>\n",
                            "      <td>B2C</td>\n",
                            "      <td>promotion</td>\n",
                            "      <td>0.91</td>\n",
                            "      <td>362030.20</td>\n",
                            "    </tr>\n",
                            "    <tr>\n",
                            "      <th>2</th>\n",
                            "      <td>Switchable leadingedge alliance</td>\n",
                            "      <td>2023-01-29</td>\n",
                            "      <td>2024-07-28</td>\n",
                            "      <td>93236.34</td>\n",
                            "      <td>0.92</td>\n",
                            "      <td>webinar</td>\n",
                            "      <td>B2C</td>\n",
                            "      <td>referral</td>\n",
                            "      <td>0.85</td>\n",
                            "      <td>545988.99</td>\n",
                            "    </tr>\n",
                            "    <tr>\n",
                            "      <th>3</th>\n",
                            "      <td>Object-based composite info-mediaries</td>\n",
                            "      <td>2023-05-04</td>\n",
                            "      <td>2023-12-19</td>\n",
                            "      <td>52277.41</td>\n",
                            "      <td>0.79</td>\n",
                            "      <td>webinar</td>\n",
                            "      <td>B2C</td>\n",
                            "      <td>promotion</td>\n",
                            "      <td>0.84</td>\n",
                            "      <td>838402.57</td>\n",
                            "    </tr>\n",
                            "    <tr>\n",
                            "      <th>4</th>\n",
                            "      <td>Persistent disintermediate artificial intellig...</td>\n",
                            "      <td>2023-01-23</td>\n",
                            "      <td>2023-08-21</td>\n",
                            "      <td>10659.15</td>\n",
                            "      <td>0.70</td>\n",
                            "      <td>email</td>\n",
                            "      <td>B2B</td>\n",
                            "      <td>promotion</td>\n",
                            "      <td>0.84</td>\n",
                            "      <td>506589.58</td>\n",
                            "    </tr>\n",
                            "  </tbody>\n",
                            "</table>\n",
                            "</div>"
                        ],
                        "text/plain": [
                            "                                       campaign_name  start_date    end_date  \\\n",
                            "0                    Expanded zero tolerance adapter  2022-09-19  2024-05-07   \n",
                            "1              Managed even-keeled Internet solution  2023-03-09  2024-01-12   \n",
                            "2                    Switchable leadingedge alliance  2023-01-29  2024-07-28   \n",
                            "3              Object-based composite info-mediaries  2023-05-04  2023-12-19   \n",
                            "4  Persistent disintermediate artificial intellig...  2023-01-23  2023-08-21   \n",
                            "\n",
                            "     budget   roi     type target_audience    channel  conversion_rate  \\\n",
                            "0  80474.62  0.86    email             B2C    organic             0.70   \n",
                            "1  81342.10  0.66    email             B2C  promotion             0.91   \n",
                            "2  93236.34  0.92  webinar             B2C   referral             0.85   \n",
                            "3  52277.41  0.79  webinar             B2C  promotion             0.84   \n",
                            "4  10659.15  0.70    email             B2B  promotion             0.84   \n",
                            "\n",
                            "     revenue  \n",
                            "0  394021.52  \n",
                            "1  362030.20  \n",
                            "2  545988.99  \n",
                            "3  838402.57  \n",
                            "4  506589.58  "
                        ]
                    },
                    "execution_count": 9,
                    "metadata": {},
                    "output_type": "execute_result"
                }
            ],
            "source": [
                "print(\"First 5 Rows:\")\n",
                "df_marketing.head()"
            ]
        },
        {
            "cell_type": "code",
            "execution_count": 10,
            "id": "7f96f0fa",
            "metadata": {},
            "outputs": [
                {
                    "name": "stdout",
                    "output_type": "stream",
                    "text": [
                        "Descriptive Statistics (Numerical):\n"
                    ]
                },
                {
                    "data": {
                        "text/html": [
                            "<div>\n",
                            "<style scoped>\n",
                            "    .dataframe tbody tr th:only-of-type {\n",
                            "        vertical-align: middle;\n",
                            "    }\n",
                            "\n",
                            "    .dataframe tbody tr th {\n",
                            "        vertical-align: top;\n",
                            "    }\n",
                            "\n",
                            "    .dataframe thead th {\n",
                            "        text-align: right;\n",
                            "    }\n",
                            "</style>\n",
                            "<table border=\"1\" class=\"dataframe\">\n",
                            "  <thead>\n",
                            "    <tr style=\"text-align: right;\">\n",
                            "      <th></th>\n",
                            "      <th>budget</th>\n",
                            "      <th>roi</th>\n",
                            "      <th>conversion_rate</th>\n",
                            "      <th>revenue</th>\n",
                            "    </tr>\n",
                            "  </thead>\n",
                            "  <tbody>\n",
                            "    <tr>\n",
                            "      <th>count</th>\n",
                            "      <td>50000.000000</td>\n",
                            "      <td>50000.000000</td>\n",
                            "      <td>50000.000000</td>\n",
                            "      <td>50000.000000</td>\n",
                            "    </tr>\n",
                            "    <tr>\n",
                            "      <th>mean</th>\n",
                            "      <td>49731.462075</td>\n",
                            "      <td>0.534840</td>\n",
                            "      <td>0.543914</td>\n",
                            "      <td>518279.874870</td>\n",
                            "    </tr>\n",
                            "    <tr>\n",
                            "      <th>std</th>\n",
                            "      <td>28912.146372</td>\n",
                            "      <td>0.261888</td>\n",
                            "      <td>0.266943</td>\n",
                            "      <td>285365.133092</td>\n",
                            "    </tr>\n",
                            "    <tr>\n",
                            "      <th>min</th>\n",
                            "      <td>1052.570000</td>\n",
                            "      <td>0.000000</td>\n",
                            "      <td>0.000000</td>\n",
                            "      <td>108.210000</td>\n",
                            "    </tr>\n",
                            "    <tr>\n",
                            "      <th>25%</th>\n",
                            "      <td>24959.240000</td>\n",
                            "      <td>0.310000</td>\n",
                            "      <td>0.300000</td>\n",
                            "      <td>273231.880000</td>\n",
                            "    </tr>\n",
                            "    <tr>\n",
                            "      <th>50%</th>\n",
                            "      <td>47906.320000</td>\n",
                            "      <td>0.530000</td>\n",
                            "      <td>0.550000</td>\n",
                            "      <td>526682.950000</td>\n",
                            "    </tr>\n",
                            "    <tr>\n",
                            "      <th>75%</th>\n",
                            "      <td>75262.370000</td>\n",
                            "      <td>0.760000</td>\n",
                            "      <td>0.770000</td>\n",
                            "      <td>770745.630000</td>\n",
                            "    </tr>\n",
                            "    <tr>\n",
                            "      <th>max</th>\n",
                            "      <td>99957.150000</td>\n",
                            "      <td>0.990000</td>\n",
                            "      <td>0.990000</td>\n",
                            "      <td>999712.490000</td>\n",
                            "    </tr>\n",
                            "  </tbody>\n",
                            "</table>\n",
                            "</div>"
                        ],
                        "text/plain": [
                            "             budget           roi  conversion_rate        revenue\n",
                            "count  50000.000000  50000.000000     50000.000000   50000.000000\n",
                            "mean   49731.462075      0.534840         0.543914  518279.874870\n",
                            "std    28912.146372      0.261888         0.266943  285365.133092\n",
                            "min     1052.570000      0.000000         0.000000     108.210000\n",
                            "25%    24959.240000      0.310000         0.300000  273231.880000\n",
                            "50%    47906.320000      0.530000         0.550000  526682.950000\n",
                            "75%    75262.370000      0.760000         0.770000  770745.630000\n",
                            "max    99957.150000      0.990000         0.990000  999712.490000"
                        ]
                    },
                    "execution_count": 10,
                    "metadata": {},
                    "output_type": "execute_result"
                }
            ],
            "source": [
                "print(\"Descriptive Statistics (Numerical):\")\n",
                "df_marketing.describe()"
            ]
        },
        {
            "cell_type": "code",
            "execution_count": 11,
            "id": "952903e5",
            "metadata": {},
            "outputs": [
                {
                    "name": "stdout",
                    "output_type": "stream",
                    "text": [
                        "\n",
                        "Descriptive Statistics (Categorical - Top 5):\n",
                        "campaign_name\n"
                    ]
                },
                {
                    "data": {
                        "text/plain": [
                            "campaign_name\n",
                            "Reverse-engineered static infrastructure    100\n",
                            "Expanded 3rdgeneration synergy               73\n",
                            "Visionary 24hour circuit                     70\n",
                            "Realigned zero administration intranet       70\n",
                            "Stand-alone modular Internet solution        70\n",
                            "Name: count, dtype: int64"
                        ]
                    },
                    "metadata": {},
                    "output_type": "display_data"
                },
                {
                    "name": "stdout",
                    "output_type": "stream",
                    "text": [
                        "start_date\n"
                    ]
                },
                {
                    "data": {
                        "text/plain": [
                            "start_date\n",
                            "2023-07-22    415\n",
                            "2022-09-20    382\n",
                            "2023-07-02    381\n",
                            "2023-07-07    363\n",
                            "2023-04-25    357\n",
                            "Name: count, dtype: int64"
                        ]
                    },
                    "metadata": {},
                    "output_type": "display_data"
                },
                {
                    "name": "stdout",
                    "output_type": "stream",
                    "text": [
                        "end_date\n"
                    ]
                },
                {
                    "data": {
                        "text/plain": [
                            "end_date\n",
                            "2023-10-09    465\n",
                            "2024-04-16    411\n",
                            "2024-03-22    353\n",
                            "2023-10-06    350\n",
                            "2024-06-06    350\n",
                            "Name: count, dtype: int64"
                        ]
                    },
                    "metadata": {},
                    "output_type": "display_data"
                },
                {
                    "name": "stdout",
                    "output_type": "stream",
                    "text": [
                        "type\n"
                    ]
                },
                {
                    "data": {
                        "text/plain": [
                            "type\n",
                            "email           13894\n",
                            "webinar         13097\n",
                            "social media    11505\n",
                            "podcast         11504\n",
                            "Name: count, dtype: int64"
                        ]
                    },
                    "metadata": {},
                    "output_type": "display_data"
                },
                {
                    "name": "stdout",
                    "output_type": "stream",
                    "text": [
                        "target_audience\n"
                    ]
                },
                {
                    "data": {
                        "text/plain": [
                            "target_audience\n",
                            "B2B    25610\n",
                            "B2C    24390\n",
                            "Name: count, dtype: int64"
                        ]
                    },
                    "metadata": {},
                    "output_type": "display_data"
                },
                {
                    "name": "stdout",
                    "output_type": "stream",
                    "text": [
                        "channel\n"
                    ]
                },
                {
                    "data": {
                        "text/plain": [
                            "channel\n",
                            "promotion    13609\n",
                            "referral     12505\n",
                            "organic      11976\n",
                            "paid         11910\n",
                            "Name: count, dtype: int64"
                        ]
                    },
                    "metadata": {},
                    "output_type": "display_data"
                }
            ],
            "source": [
                "print(\"\\nDescriptive Statistics (Categorical - Top 5):\")\n",
                "for col in df_marketing.select_dtypes(include=[\"object\", \"category\"]).columns:\n",
                "    print(f\"{col}\")\n",
                "    display(df_marketing[col].value_counts().head())"
            ]
        },
        {
            "cell_type": "markdown",
            "id": "10fb52c5",
            "metadata": {},
            "source": [
                "### Information Finance Data"
            ]
        },
        {
            "cell_type": "code",
            "execution_count": 12,
            "id": "68ae7802",
            "metadata": {},
            "outputs": [
                {
                    "name": "stdout",
                    "output_type": "stream",
                    "text": [
                        "Initial Inspection: df_finance\n",
                        "Shape: (1225, 1)\n",
                        "\n",
                        "Info:\n",
                        "<class 'pandas.core.frame.DataFrame'>\n",
                        "RangeIndex: 1225 entries, 0 to 1224\n",
                        "Data columns (total 1 columns):\n",
                        " #   Column                                                                          Non-Null Count  Dtype \n",
                        "---  ------                                                                          --------------  ----- \n",
                        " 0   YOB;NKID;DEP;PHON;SINC;AES;DAINC;RES;DHVAL;DMORT;DOUTM;DOUTL;DOUTHP;DOUTCC;BAD  1225 non-null   object\n",
                        "dtypes: object(1)\n",
                        "memory usage: 9.7+ KB\n"
                    ]
                }
            ],
            "source": [
                "print(\"Initial Inspection: df_finance\")\n",
                "print(\"Shape:\", df_finance.shape)\n",
                "print(\"\\nInfo:\")\n",
                "df_finance.info()"
            ]
        },
        {
            "cell_type": "code",
            "execution_count": 13,
            "id": "e20fd792",
            "metadata": {},
            "outputs": [
                {
                    "name": "stdout",
                    "output_type": "stream",
                    "text": [
                        "First 5 Rows:\n"
                    ]
                },
                {
                    "data": {
                        "text/html": [
                            "<div>\n",
                            "<style scoped>\n",
                            "    .dataframe tbody tr th:only-of-type {\n",
                            "        vertical-align: middle;\n",
                            "    }\n",
                            "\n",
                            "    .dataframe tbody tr th {\n",
                            "        vertical-align: top;\n",
                            "    }\n",
                            "\n",
                            "    .dataframe thead th {\n",
                            "        text-align: right;\n",
                            "    }\n",
                            "</style>\n",
                            "<table border=\"1\" class=\"dataframe\">\n",
                            "  <thead>\n",
                            "    <tr style=\"text-align: right;\">\n",
                            "      <th></th>\n",
                            "      <th>YOB;NKID;DEP;PHON;SINC;AES;DAINC;RES;DHVAL;DMORT;DOUTM;DOUTL;DOUTHP;DOUTCC;BAD</th>\n",
                            "    </tr>\n",
                            "  </thead>\n",
                            "  <tbody>\n",
                            "    <tr>\n",
                            "      <th>0</th>\n",
                            "      <td>19.0;4.0;.0;1;.00;R;.00;O;14464.00;4.00;.00;.0...</td>\n",
                            "    </tr>\n",
                            "    <tr>\n",
                            "      <th>1</th>\n",
                            "      <td>41.0;2.0;.0;1;.00;P;36000.00;O;.00;.00;280.00;...</td>\n",
                            "    </tr>\n",
                            "    <tr>\n",
                            "      <th>2</th>\n",
                            "      <td>66.0;.0;.0;1;.00;N;30000.00;N;.00;.00;.00;.00;...</td>\n",
                            "    </tr>\n",
                            "    <tr>\n",
                            "      <th>3</th>\n",
                            "      <td>51.0;2.0;.0;1;.00;P;464.00;O;24928.00;8464.00;...</td>\n",
                            "    </tr>\n",
                            "    <tr>\n",
                            "      <th>4</th>\n",
                            "      <td>65.0;.0;.0;1;.00;P;15000.00;P;.00;.00;.00;.00;...</td>\n",
                            "    </tr>\n",
                            "  </tbody>\n",
                            "</table>\n",
                            "</div>"
                        ],
                        "text/plain": [
                            "  YOB;NKID;DEP;PHON;SINC;AES;DAINC;RES;DHVAL;DMORT;DOUTM;DOUTL;DOUTHP;DOUTCC;BAD\n",
                            "0  19.0;4.0;.0;1;.00;R;.00;O;14464.00;4.00;.00;.0...                            \n",
                            "1  41.0;2.0;.0;1;.00;P;36000.00;O;.00;.00;280.00;...                            \n",
                            "2  66.0;.0;.0;1;.00;N;30000.00;N;.00;.00;.00;.00;...                            \n",
                            "3  51.0;2.0;.0;1;.00;P;464.00;O;24928.00;8464.00;...                            \n",
                            "4  65.0;.0;.0;1;.00;P;15000.00;P;.00;.00;.00;.00;...                            "
                        ]
                    },
                    "execution_count": 13,
                    "metadata": {},
                    "output_type": "execute_result"
                }
            ],
            "source": [
                "print(\"First 5 Rows:\")\n",
                "df_finance.head()"
            ]
        },
        {
            "cell_type": "code",
            "execution_count": 14,
            "id": "199ffadb",
            "metadata": {},
            "outputs": [
                {
                    "name": "stdout",
                    "output_type": "stream",
                    "text": [
                        "Descriptive Statistics (Numerical):\n"
                    ]
                },
                {
                    "data": {
                        "text/html": [
                            "<div>\n",
                            "<style scoped>\n",
                            "    .dataframe tbody tr th:only-of-type {\n",
                            "        vertical-align: middle;\n",
                            "    }\n",
                            "\n",
                            "    .dataframe tbody tr th {\n",
                            "        vertical-align: top;\n",
                            "    }\n",
                            "\n",
                            "    .dataframe thead th {\n",
                            "        text-align: right;\n",
                            "    }\n",
                            "</style>\n",
                            "<table border=\"1\" class=\"dataframe\">\n",
                            "  <thead>\n",
                            "    <tr style=\"text-align: right;\">\n",
                            "      <th></th>\n",
                            "      <th>YOB;NKID;DEP;PHON;SINC;AES;DAINC;RES;DHVAL;DMORT;DOUTM;DOUTL;DOUTHP;DOUTCC;BAD</th>\n",
                            "    </tr>\n",
                            "  </thead>\n",
                            "  <tbody>\n",
                            "    <tr>\n",
                            "      <th>count</th>\n",
                            "      <td>1225</td>\n",
                            "    </tr>\n",
                            "    <tr>\n",
                            "      <th>unique</th>\n",
                            "      <td>1202</td>\n",
                            "    </tr>\n",
                            "    <tr>\n",
                            "      <th>top</th>\n",
                            "      <td>69.0;.0;.0;1;.00;T;.00;P;.00;.00;.00;.00;.00;....</td>\n",
                            "    </tr>\n",
                            "    <tr>\n",
                            "      <th>freq</th>\n",
                            "      <td>7</td>\n",
                            "    </tr>\n",
                            "  </tbody>\n",
                            "</table>\n",
                            "</div>"
                        ],
                        "text/plain": [
                            "       YOB;NKID;DEP;PHON;SINC;AES;DAINC;RES;DHVAL;DMORT;DOUTM;DOUTL;DOUTHP;DOUTCC;BAD\n",
                            "count                                                1225                            \n",
                            "unique                                               1202                            \n",
                            "top     69.0;.0;.0;1;.00;T;.00;P;.00;.00;.00;.00;.00;....                            \n",
                            "freq                                                    7                            "
                        ]
                    },
                    "execution_count": 14,
                    "metadata": {},
                    "output_type": "execute_result"
                }
            ],
            "source": [
                "print(\"Descriptive Statistics (Numerical):\")\n",
                "df_finance.describe()"
            ]
        },
        {
            "cell_type": "code",
            "execution_count": 15,
            "id": "6a28457f",
            "metadata": {},
            "outputs": [
                {
                    "name": "stdout",
                    "output_type": "stream",
                    "text": [
                        "Descriptive Statistics (Categorical - Top 5):\n",
                        "YOB;NKID;DEP;PHON;SINC;AES;DAINC;RES;DHVAL;DMORT;DOUTM;DOUTL;DOUTHP;DOUTCC;BAD \n",
                        "\n"
                    ]
                },
                {
                    "data": {
                        "text/plain": [
                            "YOB;NKID;DEP;PHON;SINC;AES;DAINC;RES;DHVAL;DMORT;DOUTM;DOUTL;DOUTHP;DOUTCC;BAD\n",
                            "69.0;.0;.0;1;.00;T;.00;P;.00;.00;.00;.00;.00;.00;.00     7\n",
                            "67.0;.0;.0;1;.00;T;.00;P;.00;.00;.00;.00;.00;.00;.00     5\n",
                            "69.0;.0;.0;1;.00;T;.00;P;.00;.00;.00;.00;.00;.00;1.00    5\n",
                            "64.0;.0;.0;1;.00;T;.00;P;.00;.00;.00;.00;.00;.00;.00     3\n",
                            "68.0;.0;.0;1;.00;T;.00;P;.00;.00;.00;.00;.00;.00;.00     3\n",
                            "Name: count, dtype: int64"
                        ]
                    },
                    "metadata": {},
                    "output_type": "display_data"
                },
                {
                    "name": "stdout",
                    "output_type": "stream",
                    "text": [
                        "Initial Inspection Complete\n"
                    ]
                }
            ],
            "source": [
                "print(\"Descriptive Statistics (Categorical - Top 5):\")\n",
                "for col in df_finance.select_dtypes(include=[\"object\", \"category\"]).columns:\n",
                "    print(f\"{col} \\n\")\n",
                "    display(df_finance[col].value_counts().head())\n",
                "\n",
                "print(\"Initial Inspection Complete\")"
            ]
        },
        {
            "cell_type": "markdown",
            "id": "8350057d",
            "metadata": {},
            "source": [
                "## Exploratory Data Analysis (EDA)"
            ]
        },
        {
            "cell_type": "markdown",
            "id": "0a21e4b4",
            "metadata": {},
            "source": [
                "### Data Overview & Missing Values"
            ]
        },
        {
            "cell_type": "code",
            "execution_count": 16,
            "id": "c8b3b02c",
            "metadata": {},
            "outputs": [
                {
                    "name": "stdout",
                    "output_type": "stream",
                    "text": [
                        "Missing Values Count (Absolute):\n",
                        "UserID                0\n",
                        "UserName              0\n",
                        "Age                   0\n",
                        "Gender                0\n",
                        "Country               0\n",
                        "SignUpDate            0\n",
                        "ProductID             0\n",
                        "ProductName           0\n",
                        "Category              0\n",
                        "Price                 0\n",
                        "PurchaseDate          0\n",
                        "Quantity              0\n",
                        "TotalAmount           0\n",
                        "HasDiscountApplied    0\n",
                        "DiscountRate          0\n",
                        "ReviewScore           0\n",
                        "ReviewText            0\n",
                        "LastLogin             0\n",
                        "SessionDuration       0\n",
                        "DeviceType            0\n",
                        "ReferralSource        0\n",
                        "dtype: int64\n"
                    ]
                }
            ],
            "source": [
                "print(\"Missing Values Count (Absolute):\")\n",
                "print(df_retail.isnull().sum())"
            ]
        },
        {
            "cell_type": "code",
            "execution_count": 17,
            "id": "fc25d0d5",
            "metadata": {},
            "outputs": [
                {
                    "name": "stdout",
                    "output_type": "stream",
                    "text": [
                        "Missing Values Percentage:\n",
                        "UserID                0.0\n",
                        "UserName              0.0\n",
                        "Age                   0.0\n",
                        "Gender                0.0\n",
                        "Country               0.0\n",
                        "SignUpDate            0.0\n",
                        "ProductID             0.0\n",
                        "ProductName           0.0\n",
                        "Category              0.0\n",
                        "Price                 0.0\n",
                        "PurchaseDate          0.0\n",
                        "Quantity              0.0\n",
                        "TotalAmount           0.0\n",
                        "HasDiscountApplied    0.0\n",
                        "DiscountRate          0.0\n",
                        "ReviewScore           0.0\n",
                        "ReviewText            0.0\n",
                        "LastLogin             0.0\n",
                        "SessionDuration       0.0\n",
                        "DeviceType            0.0\n",
                        "ReferralSource        0.0\n",
                        "dtype: float64\n"
                    ]
                }
            ],
            "source": [
                "print(\"Missing Values Percentage:\")\n",
                "print((df_retail.isnull().sum() / len(df_retail)) * 100)"
            ]
        },
        {
            "cell_type": "markdown",
            "id": "ea847c32",
            "metadata": {},
            "source": [
                "Insight:\n",
                "\n",
                "No missing value found in retail data"
            ]
        },
        {
            "cell_type": "markdown",
            "id": "35dfb69d",
            "metadata": {},
            "source": [
                "### Analysis Of Numerical Columns"
            ]
        },
        {
            "cell_type": "code",
            "execution_count": 18,
            "id": "07da1b0e",
            "metadata": {},
            "outputs": [
                {
                    "name": "stdout",
                    "output_type": "stream",
                    "text": [
                        "Numerical Columns (9): ['UserID', 'Age', 'ProductID', 'Price', 'Quantity', 'TotalAmount', 'DiscountRate', 'ReviewScore', 'SessionDuration']\n",
                        "\n",
                        "Descriptive Statistics for Numerical Features:\n"
                    ]
                },
                {
                    "data": {
                        "text/html": [
                            "<div>\n",
                            "<style scoped>\n",
                            "    .dataframe tbody tr th:only-of-type {\n",
                            "        vertical-align: middle;\n",
                            "    }\n",
                            "\n",
                            "    .dataframe tbody tr th {\n",
                            "        vertical-align: top;\n",
                            "    }\n",
                            "\n",
                            "    .dataframe thead th {\n",
                            "        text-align: right;\n",
                            "    }\n",
                            "</style>\n",
                            "<table border=\"1\" class=\"dataframe\">\n",
                            "  <thead>\n",
                            "    <tr style=\"text-align: right;\">\n",
                            "      <th></th>\n",
                            "      <th>count</th>\n",
                            "      <th>mean</th>\n",
                            "      <th>std</th>\n",
                            "      <th>min</th>\n",
                            "      <th>25%</th>\n",
                            "      <th>50%</th>\n",
                            "      <th>75%</th>\n",
                            "      <th>max</th>\n",
                            "    </tr>\n",
                            "  </thead>\n",
                            "  <tbody>\n",
                            "    <tr>\n",
                            "      <th>UserID</th>\n",
                            "      <td>100000.0</td>\n",
                            "      <td>50000.500000</td>\n",
                            "      <td>28867.657797</td>\n",
                            "      <td>1.00</td>\n",
                            "      <td>25000.7500</td>\n",
                            "      <td>50000.500</td>\n",
                            "      <td>75000.2500</td>\n",
                            "      <td>100000.00</td>\n",
                            "    </tr>\n",
                            "    <tr>\n",
                            "      <th>Age</th>\n",
                            "      <td>100000.0</td>\n",
                            "      <td>43.460810</td>\n",
                            "      <td>14.980333</td>\n",
                            "      <td>18.00</td>\n",
                            "      <td>31.0000</td>\n",
                            "      <td>43.000</td>\n",
                            "      <td>56.0000</td>\n",
                            "      <td>69.00</td>\n",
                            "    </tr>\n",
                            "    <tr>\n",
                            "      <th>ProductID</th>\n",
                            "      <td>100000.0</td>\n",
                            "      <td>5508.117230</td>\n",
                            "      <td>2606.544036</td>\n",
                            "      <td>1000.00</td>\n",
                            "      <td>3228.0000</td>\n",
                            "      <td>5520.000</td>\n",
                            "      <td>7776.0000</td>\n",
                            "      <td>9998.00</td>\n",
                            "    </tr>\n",
                            "    <tr>\n",
                            "      <th>Price</th>\n",
                            "      <td>100000.0</td>\n",
                            "      <td>505.631966</td>\n",
                            "      <td>286.137505</td>\n",
                            "      <td>10.00</td>\n",
                            "      <td>257.1375</td>\n",
                            "      <td>505.950</td>\n",
                            "      <td>753.7325</td>\n",
                            "      <td>999.98</td>\n",
                            "    </tr>\n",
                            "    <tr>\n",
                            "      <th>Quantity</th>\n",
                            "      <td>100000.0</td>\n",
                            "      <td>2.495690</td>\n",
                            "      <td>1.120354</td>\n",
                            "      <td>1.00</td>\n",
                            "      <td>1.0000</td>\n",
                            "      <td>2.000</td>\n",
                            "      <td>4.0000</td>\n",
                            "      <td>4.00</td>\n",
                            "    </tr>\n",
                            "    <tr>\n",
                            "      <th>TotalAmount</th>\n",
                            "      <td>100000.0</td>\n",
                            "      <td>1260.852360</td>\n",
                            "      <td>964.100243</td>\n",
                            "      <td>10.02</td>\n",
                            "      <td>494.6775</td>\n",
                            "      <td>966.080</td>\n",
                            "      <td>1850.3300</td>\n",
                            "      <td>3999.72</td>\n",
                            "    </tr>\n",
                            "    <tr>\n",
                            "      <th>DiscountRate</th>\n",
                            "      <td>100000.0</td>\n",
                            "      <td>0.249831</td>\n",
                            "      <td>0.144505</td>\n",
                            "      <td>0.00</td>\n",
                            "      <td>0.1300</td>\n",
                            "      <td>0.250</td>\n",
                            "      <td>0.3700</td>\n",
                            "      <td>0.50</td>\n",
                            "    </tr>\n",
                            "    <tr>\n",
                            "      <th>ReviewScore</th>\n",
                            "      <td>100000.0</td>\n",
                            "      <td>4.006239</td>\n",
                            "      <td>0.998750</td>\n",
                            "      <td>-0.60</td>\n",
                            "      <td>3.3000</td>\n",
                            "      <td>4.000</td>\n",
                            "      <td>4.7000</td>\n",
                            "      <td>8.60</td>\n",
                            "    </tr>\n",
                            "    <tr>\n",
                            "      <th>SessionDuration</th>\n",
                            "      <td>100000.0</td>\n",
                            "      <td>62.408836</td>\n",
                            "      <td>33.177372</td>\n",
                            "      <td>5.00</td>\n",
                            "      <td>33.7200</td>\n",
                            "      <td>62.415</td>\n",
                            "      <td>91.0400</td>\n",
                            "      <td>120.00</td>\n",
                            "    </tr>\n",
                            "  </tbody>\n",
                            "</table>\n",
                            "</div>"
                        ],
                        "text/plain": [
                            "                    count          mean           std      min         25%  \\\n",
                            "UserID           100000.0  50000.500000  28867.657797     1.00  25000.7500   \n",
                            "Age              100000.0     43.460810     14.980333    18.00     31.0000   \n",
                            "ProductID        100000.0   5508.117230   2606.544036  1000.00   3228.0000   \n",
                            "Price            100000.0    505.631966    286.137505    10.00    257.1375   \n",
                            "Quantity         100000.0      2.495690      1.120354     1.00      1.0000   \n",
                            "TotalAmount      100000.0   1260.852360    964.100243    10.02    494.6775   \n",
                            "DiscountRate     100000.0      0.249831      0.144505     0.00      0.1300   \n",
                            "ReviewScore      100000.0      4.006239      0.998750    -0.60      3.3000   \n",
                            "SessionDuration  100000.0     62.408836     33.177372     5.00     33.7200   \n",
                            "\n",
                            "                       50%         75%        max  \n",
                            "UserID           50000.500  75000.2500  100000.00  \n",
                            "Age                 43.000     56.0000      69.00  \n",
                            "ProductID         5520.000   7776.0000    9998.00  \n",
                            "Price              505.950    753.7325     999.98  \n",
                            "Quantity             2.000      4.0000       4.00  \n",
                            "TotalAmount        966.080   1850.3300    3999.72  \n",
                            "DiscountRate         0.250      0.3700       0.50  \n",
                            "ReviewScore          4.000      4.7000       8.60  \n",
                            "SessionDuration     62.415     91.0400     120.00  "
                        ]
                    },
                    "metadata": {},
                    "output_type": "display_data"
                }
            ],
            "source": [
                "numerical_cols = df_retail.select_dtypes(include=np.number).columns.tolist()\n",
                "print(f\"Numerical Columns ({len(numerical_cols)}): {numerical_cols}\")\n",
                "\n",
                "print(\"\\nDescriptive Statistics for Numerical Features:\")\n",
                "display(df_retail[numerical_cols].describe().T)"
            ]
        },
        {
            "cell_type": "code",
            "execution_count": 19,
            "id": "a07d0c83",
            "metadata": {},
            "outputs": [
                {
                    "data": {
                        "image/png": "[encoded data removed]",
                        "text/plain": [
                            "<Figure size 1500x1000 with 5 Axes>"
                        ]
                    },
                    "metadata": {},
                    "output_type": "display_data"
                }
            ],
            "source": [
                "plt.figure(figsize=(15, 10))\n",
                "for i, col in enumerate(numerical_cols[:5]):  # Adjust slice as needed\n",
                "    plt.subplot(2, 3, i + 1)\n",
                "    sns.histplot(df_retail[col], kde=True)\n",
                "    plt.title(f\"Distribution of {col}\")\n",
                "plt.tight_layout()\n",
                "plt.show()"
            ]
        },
        {
            "cell_type": "code",
            "execution_count": 20,
            "id": "7bc1e030",
            "metadata": {},
            "outputs": [
                {
                    "data": {
                        "image/png": "[encoded data removed]",
                        "text/plain": [
                            "<Figure size 1500x1000 with 5 Axes>"
                        ]
                    },
                    "metadata": {},
                    "output_type": "display_data"
                }
            ],
            "source": [
                "plt.figure(figsize=(15, 10))\n",
                "for i, col in enumerate(numerical_cols[:5]):\n",
                "    plt.subplot(2, 3, i + 1)\n",
                "    sns.boxplot(df_retail[col])\n",
                "    plt.title(f\"Distribution of {col}\")\n",
                "plt.tight_layout()\n",
                "plt.show()"
            ]
        },
        {
            "cell_type": "markdown",
            "id": "f77d254d",
            "metadata": {},
            "source": [
                "### Analysis of Categorical Features"
            ]
        },
        {
            "cell_type": "code",
            "execution_count": 21,
            "id": "3dd9c394",
            "metadata": {},
            "outputs": [
                {
                    "name": "stdout",
                    "output_type": "stream",
                    "text": [
                        "Categorical Columns (11): ['UserName', 'Gender', 'Country', 'SignUpDate', 'ProductName', 'Category', 'PurchaseDate', 'ReviewText', 'LastLogin', 'DeviceType', 'ReferralSource']\n"
                    ]
                }
            ],
            "source": [
                "categorical_cols = df_retail.select_dtypes(include=\"object\").columns.tolist()\n",
                "print(f\"Categorical Columns ({len(categorical_cols)}): {categorical_cols}\")"
            ]
        },
        {
            "cell_type": "code",
            "execution_count": 22,
            "id": "4de9f5c3",
            "metadata": {},
            "outputs": [
                {
                    "name": "stdout",
                    "output_type": "stream",
                    "text": [
                        "\n",
                        "Unique Values and Value Counts for Categorical Features:\n",
                        "Feature: UserName (100000 unique values)\n"
                    ]
                },
                {
                    "data": {
                        "text/plain": [
                            "UserName\n",
                            "User_1         1\n",
                            "User_66651     1\n",
                            "User_66673     1\n",
                            "User_66672     1\n",
                            "User_66671     1\n",
                            "              ..\n",
                            "User_33332     1\n",
                            "User_33331     1\n",
                            "User_33330     1\n",
                            "User_33329     1\n",
                            "User_100000    1\n",
                            "Name: count, Length: 100000, dtype: int64"
                        ]
                    },
                    "metadata": {},
                    "output_type": "display_data"
                },
                {
                    "name": "stdout",
                    "output_type": "stream",
                    "text": [
                        "Feature: Gender (3 unique values)\n"
                    ]
                },
                {
                    "data": {
                        "text/plain": [
                            "Gender\n",
                            "Non-Binary    33538\n",
                            "Male          33269\n",
                            "Female        33193\n",
                            "Name: count, dtype: int64"
                        ]
                    },
                    "metadata": {},
                    "output_type": "display_data"
                },
                {
                    "name": "stdout",
                    "output_type": "stream",
                    "text": [
                        "Feature: Country (6 unique values)\n"
                    ]
                },
                {
                    "data": {
                        "text/plain": [
                            "Country\n",
                            "USA          16844\n",
                            "Canada       16767\n",
                            "UK           16699\n",
                            "Germany      16582\n",
                            "Australia    16570\n",
                            "India        16538\n",
                            "Name: count, dtype: int64"
                        ]
                    },
                    "metadata": {},
                    "output_type": "display_data"
                },
                {
                    "name": "stdout",
                    "output_type": "stream",
                    "text": [
                        "Feature: SignUpDate (1096 unique values)\n"
                    ]
                },
                {
                    "data": {
                        "text/plain": [
                            "SignUpDate\n",
                            "2022-01-17    125\n",
                            "2022-11-20    122\n",
                            "2021-07-14    119\n",
                            "2020-11-22    117\n",
                            "2022-08-06    117\n",
                            "             ... \n",
                            "2021-08-30     66\n",
                            "2020-11-23     65\n",
                            "2022-04-05     64\n",
                            "2022-01-10     62\n",
                            "2022-04-27     62\n",
                            "Name: count, Length: 1096, dtype: int64"
                        ]
                    },
                    "metadata": {},
                    "output_type": "display_data"
                },
                {
                    "name": "stdout",
                    "output_type": "stream",
                    "text": [
                        "Feature: ProductName (7 unique values)\n"
                    ]
                },
                {
                    "data": {
                        "text/plain": [
                            "ProductName\n",
                            "T-shirt       14401\n",
                            "Headphones    14396\n",
                            "Book          14360\n",
                            "Watch         14287\n",
                            "Shoes         14261\n",
                            "Laptop        14169\n",
                            "Smartphone    14126\n",
                            "Name: count, dtype: int64"
                        ]
                    },
                    "metadata": {},
                    "output_type": "display_data"
                },
                {
                    "name": "stdout",
                    "output_type": "stream",
                    "text": [
                        "Feature: Category (4 unique values)\n"
                    ]
                },
                {
                    "data": {
                        "text/plain": [
                            "Category\n",
                            "Apparel        25201\n",
                            "Accessories    25015\n",
                            "Electronics    24936\n",
                            "Books          24848\n",
                            "Name: count, dtype: int64"
                        ]
                    },
                    "metadata": {},
                    "output_type": "display_data"
                },
                {
                    "name": "stdout",
                    "output_type": "stream",
                    "text": [
                        "Feature: PurchaseDate (366 unique values)\n"
                    ]
                },
                {
                    "data": {
                        "text/plain": [
                            "PurchaseDate\n",
                            "2021-07-16    316\n",
                            "2021-07-05    314\n",
                            "2021-07-29    313\n",
                            "2021-03-22    313\n",
                            "2021-08-18    313\n",
                            "             ... \n",
                            "2021-02-18    235\n",
                            "2021-01-10    234\n",
                            "2021-06-20    233\n",
                            "2021-09-09    232\n",
                            "2021-08-23    219\n",
                            "Name: count, Length: 366, dtype: int64"
                        ]
                    },
                    "metadata": {},
                    "output_type": "display_data"
                },
                {
                    "name": "stdout",
                    "output_type": "stream",
                    "text": [
                        "Feature: ReviewText (4 unique values)\n"
                    ]
                },
                {
                    "data": {
                        "text/plain": [
                            "ReviewText\n",
                            "Excellent    25035\n",
                            "Good         25029\n",
                            "Poor         24978\n",
                            "Average      24958\n",
                            "Name: count, dtype: int64"
                        ]
                    },
                    "metadata": {},
                    "output_type": "display_data"
                },
                {
                    "name": "stdout",
                    "output_type": "stream",
                    "text": [
                        "Feature: LastLogin (100000 unique values)\n"
                    ]
                },
                {
                    "data": {
                        "text/plain": [
                            "LastLogin\n",
                            "2024-05-03 04:04:27.591583    1\n",
                            "2024-03-14 04:04:27.868778    1\n",
                            "2024-10-06 04:04:27.868870    1\n",
                            "2023-11-20 04:04:27.868865    1\n",
                            "2024-07-29 04:04:27.868862    1\n",
                            "                             ..\n",
                            "2023-12-19 04:04:27.730528    1\n",
                            "2024-10-25 04:04:27.730521    1\n",
                            "2024-08-20 04:04:27.730517    1\n",
                            "2024-08-31 04:04:27.730513    1\n",
                            "2024-10-11 04:04:28.072392    1\n",
                            "Name: count, Length: 100000, dtype: int64"
                        ]
                    },
                    "metadata": {},
                    "output_type": "display_data"
                },
                {
                    "name": "stdout",
                    "output_type": "stream",
                    "text": [
                        "Feature: DeviceType (3 unique values)\n"
                    ]
                },
                {
                    "data": {
                        "text/plain": [
                            "DeviceType\n",
                            "Mobile     33568\n",
                            "Tablet     33456\n",
                            "Desktop    32976\n",
                            "Name: count, dtype: int64"
                        ]
                    },
                    "metadata": {},
                    "output_type": "display_data"
                },
                {
                    "name": "stdout",
                    "output_type": "stream",
                    "text": [
                        "Feature: ReferralSource (4 unique values)\n"
                    ]
                },
                {
                    "data": {
                        "text/plain": [
                            "ReferralSource\n",
                            "Email Marketing    25154\n",
                            "Ad Campaign        25087\n",
                            "Organic Search     25021\n",
                            "Social Media       24738\n",
                            "Name: count, dtype: int64"
                        ]
                    },
                    "metadata": {},
                    "output_type": "display_data"
                }
            ],
            "source": [
                "print(\"\\nUnique Values and Value Counts for Categorical Features:\")\n",
                "for col in categorical_cols:\n",
                "    print(f\"Feature: {col} ({df_retail[col].nunique()} unique values)\")\n",
                "    display(df_retail[col].value_counts(dropna=False))"
            ]
        },
        {
            "cell_type": "code",
            "execution_count": null,
            "id": "0e7e08a3",
            "metadata": {},
            "outputs": [
                {
                    "ename": "KeyboardInterrupt",
                    "evalue": "",
                    "output_type": "error",
                    "traceback": [
                        "\u001b[0;31m---------------------------------------------------------------------------\u001b[0m",
                        "\u001b[0;31mKeyboardInterrupt\u001b[0m                         Traceback (most recent call last)",
                        "Cell \u001b[0;32mIn[23], line 4\u001b[0m\n\u001b[1;32m      2\u001b[0m \u001b[38;5;28;01mfor\u001b[39;00m i, col \u001b[38;5;129;01min\u001b[39;00m \u001b[38;5;28menumerate\u001b[39m(categorical_cols[:\u001b[38;5;241m3\u001b[39m]):\n\u001b[1;32m      3\u001b[0m     plt\u001b[38;5;241m.\u001b[39msubplot(\u001b[38;5;241m1\u001b[39m, \u001b[38;5;241m3\u001b[39m, i \u001b[38;5;241m+\u001b[39m \u001b[38;5;241m1\u001b[39m)\n\u001b[0;32m----> 4\u001b[0m     sns\u001b[38;5;241m.\u001b[39mbarplot(data\u001b[38;5;241m=\u001b[39mdf_retail, y\u001b[38;5;241m=\u001b[39mcol, order\u001b[38;5;241m=\u001b[39mdf_retail[col]\u001b[38;5;241m.\u001b[39mvalue_counts()\u001b[38;5;241m.\u001b[39mindex)\n\u001b[1;32m      5\u001b[0m     plt\u001b[38;5;241m.\u001b[39mtitle(\u001b[38;5;124mf\u001b[39m\u001b[38;5;124m\"\u001b[39m\u001b[38;5;124mCount of \u001b[39m\u001b[38;5;132;01m{\u001b[39;00mcol\u001b[38;5;132;01m}\u001b[39;00m\u001b[38;5;124m\"\u001b[39m)\n\u001b[1;32m      6\u001b[0m plt\u001b[38;5;241m.\u001b[39mtight_layout()\n",
                        "File \u001b[0;32m~/anaconda3/lib/python3.12/site-packages/seaborn/categorical.py:2392\u001b[0m, in \u001b[0;36mbarplot\u001b[0;34m(data, x, y, hue, order, hue_order, estimator, errorbar, n_boot, seed, units, weights, orient, color, palette, saturation, fill, hue_norm, width, dodge, gap, log_scale, native_scale, formatter, legend, capsize, err_kws, ci, errcolor, errwidth, ax, **kwargs)\u001b[0m\n\u001b[1;32m   2378\u001b[0m err_kws, capsize \u001b[38;5;241m=\u001b[39m p\u001b[38;5;241m.\u001b[39m_err_kws_backcompat(err_kws, errcolor, errwidth, capsize)\n\u001b[1;32m   2380\u001b[0m p\u001b[38;5;241m.\u001b[39mplot_bars(\n\u001b[1;32m   2381\u001b[0m     aggregator\u001b[38;5;241m=\u001b[39maggregator,\n\u001b[1;32m   2382\u001b[0m     dodge\u001b[38;5;241m=\u001b[39mdodge,\n\u001b[0;32m   (...)\u001b[0m\n\u001b[1;32m   2389\u001b[0m     plot_kws\u001b[38;5;241m=\u001b[39mkwargs,\n\u001b[1;32m   2390\u001b[0m )\n\u001b[0;32m-> 2392\u001b[0m p\u001b[38;5;241m.\u001b[39m_add_axis_labels(ax)\n\u001b[1;32m   2393\u001b[0m p\u001b[38;5;241m.\u001b[39m_adjust_cat_axis(ax, axis\u001b[38;5;241m=\u001b[39mp\u001b[38;5;241m.\u001b[39morient)\n\u001b[1;32m   2395\u001b[0m \u001b[38;5;28;01mreturn\u001b[39;00m ax\n",
                        "File \u001b[0;32m~/anaconda3/lib/python3.12/site-packages/seaborn/_base.py:1196\u001b[0m, in \u001b[0;36mVectorPlotter._add_axis_labels\u001b[0;34m(self, ax, default_x, default_y)\u001b[0m\n\u001b[1;32m   1191\u001b[0m \u001b[38;5;66;03m# TODO ax could default to None and use attached axes if present\u001b[39;00m\n\u001b[1;32m   1192\u001b[0m \u001b[38;5;66;03m# but what to do about the case of facets? Currently using FacetGrid's\u001b[39;00m\n\u001b[1;32m   1193\u001b[0m \u001b[38;5;66;03m# set_axis_labels method, which doesn't add labels to the interior even\u001b[39;00m\n\u001b[1;32m   1194\u001b[0m \u001b[38;5;66;03m# when the axes are not shared. Maybe that makes sense?\u001b[39;00m\n\u001b[1;32m   1195\u001b[0m \u001b[38;5;28;01mif\u001b[39;00m \u001b[38;5;129;01mnot\u001b[39;00m ax\u001b[38;5;241m.\u001b[39mget_xlabel():\n\u001b[0;32m-> 1196\u001b[0m     x_visible \u001b[38;5;241m=\u001b[39m \u001b[38;5;28many\u001b[39m(t\u001b[38;5;241m.\u001b[39mget_visible() \u001b[38;5;28;01mfor\u001b[39;00m t \u001b[38;5;129;01min\u001b[39;00m ax\u001b[38;5;241m.\u001b[39mget_xticklabels())\n\u001b[1;32m   1197\u001b[0m     ax\u001b[38;5;241m.\u001b[39mset_xlabel(\u001b[38;5;28mself\u001b[39m\u001b[38;5;241m.\u001b[39mvariables\u001b[38;5;241m.\u001b[39mget(\u001b[38;5;124m\"\u001b[39m\u001b[38;5;124mx\u001b[39m\u001b[38;5;124m\"\u001b[39m, default_x), visible\u001b[38;5;241m=\u001b[39mx_visible)\n\u001b[1;32m   1198\u001b[0m \u001b[38;5;28;01mif\u001b[39;00m \u001b[38;5;129;01mnot\u001b[39;00m ax\u001b[38;5;241m.\u001b[39mget_ylabel():\n",
                        "File \u001b[0;32m~/anaconda3/lib/python3.12/site-packages/matplotlib/axes/_base.py:74\u001b[0m, in \u001b[0;36m_axis_method_wrapper.__set_name__.<locals>.wrapper\u001b[0;34m(self, *args, **kwargs)\u001b[0m\n\u001b[1;32m     73\u001b[0m \u001b[38;5;28;01mdef\u001b[39;00m \u001b[38;5;21mwrapper\u001b[39m(\u001b[38;5;28mself\u001b[39m, \u001b[38;5;241m*\u001b[39margs, \u001b[38;5;241m*\u001b[39m\u001b[38;5;241m*\u001b[39mkwargs):\n\u001b[0;32m---> 74\u001b[0m     \u001b[38;5;28;01mreturn\u001b[39;00m get_method(\u001b[38;5;28mself\u001b[39m)(\u001b[38;5;241m*\u001b[39margs, \u001b[38;5;241m*\u001b[39m\u001b[38;5;241m*\u001b[39mkwargs)\n",
                        "File \u001b[0;32m~/anaconda3/lib/python3.12/site-packages/matplotlib/axis.py:1503\u001b[0m, in \u001b[0;36mAxis.get_ticklabels\u001b[0;34m(self, minor, which)\u001b[0m\n\u001b[1;32m   1501\u001b[0m \u001b[38;5;28;01mif\u001b[39;00m minor:\n\u001b[1;32m   1502\u001b[0m     \u001b[38;5;28;01mreturn\u001b[39;00m \u001b[38;5;28mself\u001b[39m\u001b[38;5;241m.\u001b[39mget_minorticklabels()\n\u001b[0;32m-> 1503\u001b[0m \u001b[38;5;28;01mreturn\u001b[39;00m \u001b[38;5;28mself\u001b[39m\u001b[38;5;241m.\u001b[39mget_majorticklabels()\n",
                        "File \u001b[0;32m~/anaconda3/lib/python3.12/site-packages/matplotlib/axis.py:1460\u001b[0m, in \u001b[0;36mAxis.get_majorticklabels\u001b[0;34m(self)\u001b[0m\n\u001b[1;32m   1458\u001b[0m \u001b[38;5;28;01mdef\u001b[39;00m \u001b[38;5;21mget_majorticklabels\u001b[39m(\u001b[38;5;28mself\u001b[39m):\n\u001b[1;32m   1459\u001b[0m \u001b[38;5;250m    \u001b[39m\u001b[38;5;124;03m\"\"\"Return this Axis' major tick labels, as a list of `~.text.Text`.\"\"\"\u001b[39;00m\n\u001b[0;32m-> 1460\u001b[0m     \u001b[38;5;28mself\u001b[39m\u001b[38;5;241m.\u001b[39m_update_ticks()\n\u001b[1;32m   1461\u001b[0m     ticks \u001b[38;5;241m=\u001b[39m \u001b[38;5;28mself\u001b[39m\u001b[38;5;241m.\u001b[39mget_major_ticks()\n\u001b[1;32m   1462\u001b[0m     labels1 \u001b[38;5;241m=\u001b[39m [tick\u001b[38;5;241m.\u001b[39mlabel1 \u001b[38;5;28;01mfor\u001b[39;00m tick \u001b[38;5;129;01min\u001b[39;00m ticks \u001b[38;5;28;01mif\u001b[39;00m tick\u001b[38;5;241m.\u001b[39mlabel1\u001b[38;5;241m.\u001b[39mget_visible()]\n",
                        "File \u001b[0;32m~/anaconda3/lib/python3.12/site-packages/matplotlib/axis.py:1302\u001b[0m, in \u001b[0;36mAxis._update_ticks\u001b[0;34m(self)\u001b[0m\n\u001b[1;32m   1300\u001b[0m major_locs \u001b[38;5;241m=\u001b[39m \u001b[38;5;28mself\u001b[39m\u001b[38;5;241m.\u001b[39mget_majorticklocs()\n\u001b[1;32m   1301\u001b[0m major_labels \u001b[38;5;241m=\u001b[39m \u001b[38;5;28mself\u001b[39m\u001b[38;5;241m.\u001b[39mmajor\u001b[38;5;241m.\u001b[39mformatter\u001b[38;5;241m.\u001b[39mformat_ticks(major_locs)\n\u001b[0;32m-> 1302\u001b[0m major_ticks \u001b[38;5;241m=\u001b[39m \u001b[38;5;28mself\u001b[39m\u001b[38;5;241m.\u001b[39mget_major_ticks(\u001b[38;5;28mlen\u001b[39m(major_locs))\n\u001b[1;32m   1303\u001b[0m \u001b[38;5;28;01mfor\u001b[39;00m tick, loc, label \u001b[38;5;129;01min\u001b[39;00m \u001b[38;5;28mzip\u001b[39m(major_ticks, major_locs, major_labels):\n\u001b[1;32m   1304\u001b[0m     tick\u001b[38;5;241m.\u001b[39mupdate_position(loc)\n",
                        "File \u001b[0;32m~/anaconda3/lib/python3.12/site-packages/matplotlib/axis.py:1672\u001b[0m, in \u001b[0;36mAxis.get_major_ticks\u001b[0;34m(self, numticks)\u001b[0m\n\u001b[1;32m   1670\u001b[0m     tick \u001b[38;5;241m=\u001b[39m \u001b[38;5;28mself\u001b[39m\u001b[38;5;241m.\u001b[39m_get_tick(major\u001b[38;5;241m=\u001b[39m\u001b[38;5;28;01mTrue\u001b[39;00m)\n\u001b[1;32m   1671\u001b[0m     \u001b[38;5;28mself\u001b[39m\u001b[38;5;241m.\u001b[39mmajorTicks\u001b[38;5;241m.\u001b[39mappend(tick)\n\u001b[0;32m-> 1672\u001b[0m     \u001b[38;5;28mself\u001b[39m\u001b[38;5;241m.\u001b[39m_copy_tick_props(\u001b[38;5;28mself\u001b[39m\u001b[38;5;241m.\u001b[39mmajorTicks[\u001b[38;5;241m0\u001b[39m], tick)\n\u001b[1;32m   1674\u001b[0m \u001b[38;5;28;01mreturn\u001b[39;00m \u001b[38;5;28mself\u001b[39m\u001b[38;5;241m.\u001b[39mmajorTicks[:numticks]\n",
                        "File \u001b[0;32m~/anaconda3/lib/python3.12/site-packages/matplotlib/axis.py:1612\u001b[0m, in \u001b[0;36mAxis._copy_tick_props\u001b[0;34m(self, src, dest)\u001b[0m\n\u001b[1;32m   1608\u001b[0m     size \u001b[38;5;241m=\u001b[39m tick_kw\u001b[38;5;241m.\u001b[39mget(\u001b[38;5;124m'\u001b[39m\u001b[38;5;124mlabelsize\u001b[39m\u001b[38;5;124m'\u001b[39m,\n\u001b[1;32m   1609\u001b[0m                        mpl\u001b[38;5;241m.\u001b[39mrcParams[\u001b[38;5;124mf\u001b[39m\u001b[38;5;124m'\u001b[39m\u001b[38;5;132;01m{\u001b[39;00maxis_name\u001b[38;5;132;01m}\u001b[39;00m\u001b[38;5;124mtick.labelsize\u001b[39m\u001b[38;5;124m'\u001b[39m])\n\u001b[1;32m   1610\u001b[0m     \u001b[38;5;28;01mreturn\u001b[39;00m mtext\u001b[38;5;241m.\u001b[39mFontProperties(size\u001b[38;5;241m=\u001b[39msize)\u001b[38;5;241m.\u001b[39mget_size_in_points()\n\u001b[0;32m-> 1612\u001b[0m \u001b[38;5;28;01mdef\u001b[39;00m \u001b[38;5;21m_copy_tick_props\u001b[39m(\u001b[38;5;28mself\u001b[39m, src, dest):\n\u001b[1;32m   1613\u001b[0m \u001b[38;5;250m    \u001b[39m\u001b[38;5;124;03m\"\"\"Copy the properties from *src* tick to *dest* tick.\"\"\"\u001b[39;00m\n\u001b[1;32m   1614\u001b[0m     \u001b[38;5;28;01mif\u001b[39;00m src \u001b[38;5;129;01mis\u001b[39;00m \u001b[38;5;28;01mNone\u001b[39;00m \u001b[38;5;129;01mor\u001b[39;00m dest \u001b[38;5;129;01mis\u001b[39;00m \u001b[38;5;28;01mNone\u001b[39;00m:\n",
                        "\u001b[0;31mKeyboardInterrupt\u001b[0m: "
                    ]
                },
                {
                    "name": "stdout",
                    "output_type": "stream",
                    "text": [
                        "Error in callback <function _draw_all_if_interactive at 0x7f9fa73fc680> (for post_execute), with arguments args (),kwargs {}:\n"
                    ]
                },
                {
                    "ename": "KeyboardInterrupt",
                    "evalue": "",
                    "output_type": "error",
                    "traceback": [
                        "\u001b[0;31m---------------------------------------------------------------------------\u001b[0m",
                        "\u001b[0;31mKeyboardInterrupt\u001b[0m                         Traceback (most recent call last)",
                        "File \u001b[0;32m~/anaconda3/lib/python3.12/site-packages/matplotlib/pyplot.py:268\u001b[0m, in \u001b[0;36m_draw_all_if_interactive\u001b[0;34m()\u001b[0m\n\u001b[1;32m    266\u001b[0m \u001b[38;5;28;01mdef\u001b[39;00m \u001b[38;5;21m_draw_all_if_interactive\u001b[39m() \u001b[38;5;241m-\u001b[39m\u001b[38;5;241m>\u001b[39m \u001b[38;5;28;01mNone\u001b[39;00m:\n\u001b[1;32m    267\u001b[0m     \u001b[38;5;28;01mif\u001b[39;00m matplotlib\u001b[38;5;241m.\u001b[39mis_interactive():\n\u001b[0;32m--> 268\u001b[0m         draw_all()\n",
                        "File \u001b[0;32m~/anaconda3/lib/python3.12/site-packages/matplotlib/_pylab_helpers.py:131\u001b[0m, in \u001b[0;36mGcf.draw_all\u001b[0;34m(cls, force)\u001b[0m\n\u001b[1;32m    129\u001b[0m \u001b[38;5;28;01mfor\u001b[39;00m manager \u001b[38;5;129;01min\u001b[39;00m \u001b[38;5;28mcls\u001b[39m\u001b[38;5;241m.\u001b[39mget_all_fig_managers():\n\u001b[1;32m    130\u001b[0m     \u001b[38;5;28;01mif\u001b[39;00m force \u001b[38;5;129;01mor\u001b[39;00m manager\u001b[38;5;241m.\u001b[39mcanvas\u001b[38;5;241m.\u001b[39mfigure\u001b[38;5;241m.\u001b[39mstale:\n\u001b[0;32m--> 131\u001b[0m         manager\u001b[38;5;241m.\u001b[39mcanvas\u001b[38;5;241m.\u001b[39mdraw_idle()\n",
                        "File \u001b[0;32m~/anaconda3/lib/python3.12/site-packages/matplotlib/backend_bases.py:1905\u001b[0m, in \u001b[0;36mFigureCanvasBase.draw_idle\u001b[0;34m(self, *args, **kwargs)\u001b[0m\n\u001b[1;32m   1903\u001b[0m \u001b[38;5;28;01mif\u001b[39;00m \u001b[38;5;129;01mnot\u001b[39;00m \u001b[38;5;28mself\u001b[39m\u001b[38;5;241m.\u001b[39m_is_idle_drawing:\n\u001b[1;32m   1904\u001b[0m     \u001b[38;5;28;01mwith\u001b[39;00m \u001b[38;5;28mself\u001b[39m\u001b[38;5;241m.\u001b[39m_idle_draw_cntx():\n\u001b[0;32m-> 1905\u001b[0m         \u001b[38;5;28mself\u001b[39m\u001b[38;5;241m.\u001b[39mdraw(\u001b[38;5;241m*\u001b[39margs, \u001b[38;5;241m*\u001b[39m\u001b[38;5;241m*\u001b[39mkwargs)\n",
                        "File \u001b[0;32m~/anaconda3/lib/python3.12/site-packages/matplotlib/backends/backend_agg.py:387\u001b[0m, in \u001b[0;36mFigureCanvasAgg.draw\u001b[0;34m(self)\u001b[0m\n\u001b[1;32m    384\u001b[0m \u001b[38;5;66;03m# Acquire a lock on the shared font cache.\u001b[39;00m\n\u001b[1;32m    385\u001b[0m \u001b[38;5;28;01mwith\u001b[39;00m (\u001b[38;5;28mself\u001b[39m\u001b[38;5;241m.\u001b[39mtoolbar\u001b[38;5;241m.\u001b[39m_wait_cursor_for_draw_cm() \u001b[38;5;28;01mif\u001b[39;00m \u001b[38;5;28mself\u001b[39m\u001b[38;5;241m.\u001b[39mtoolbar\n\u001b[1;32m    386\u001b[0m       \u001b[38;5;28;01melse\u001b[39;00m nullcontext()):\n\u001b[0;32m--> 387\u001b[0m     \u001b[38;5;28mself\u001b[39m\u001b[38;5;241m.\u001b[39mfigure\u001b[38;5;241m.\u001b[39mdraw(\u001b[38;5;28mself\u001b[39m\u001b[38;5;241m.\u001b[39mrenderer)\n\u001b[1;32m    388\u001b[0m     \u001b[38;5;66;03m# A GUI class may be need to update a window using this draw, so\u001b[39;00m\n\u001b[1;32m    389\u001b[0m     \u001b[38;5;66;03m# don't forget to call the superclass.\u001b[39;00m\n\u001b[1;32m    390\u001b[0m     \u001b[38;5;28msuper\u001b[39m()\u001b[38;5;241m.\u001b[39mdraw()\n",
                        "File \u001b[0;32m~/anaconda3/lib/python3.12/site-packages/matplotlib/artist.py:95\u001b[0m, in \u001b[0;36m_finalize_rasterization.<locals>.draw_wrapper\u001b[0;34m(artist, renderer, *args, **kwargs)\u001b[0m\n\u001b[1;32m     93\u001b[0m \u001b[38;5;129m@wraps\u001b[39m(draw)\n\u001b[1;32m     94\u001b[0m \u001b[38;5;28;01mdef\u001b[39;00m \u001b[38;5;21mdraw_wrapper\u001b[39m(artist, renderer, \u001b[38;5;241m*\u001b[39margs, \u001b[38;5;241m*\u001b[39m\u001b[38;5;241m*\u001b[39mkwargs):\n\u001b[0;32m---> 95\u001b[0m     result \u001b[38;5;241m=\u001b[39m draw(artist, renderer, \u001b[38;5;241m*\u001b[39margs, \u001b[38;5;241m*\u001b[39m\u001b[38;5;241m*\u001b[39mkwargs)\n\u001b[1;32m     96\u001b[0m     \u001b[38;5;28;01mif\u001b[39;00m renderer\u001b[38;5;241m.\u001b[39m_rasterizing:\n\u001b[1;32m     97\u001b[0m         renderer\u001b[38;5;241m.\u001b[39mstop_rasterizing()\n",
                        "File \u001b[0;32m~/anaconda3/lib/python3.12/site-packages/matplotlib/artist.py:72\u001b[0m, in \u001b[0;36mallow_rasterization.<locals>.draw_wrapper\u001b[0;34m(artist, renderer)\u001b[0m\n\u001b[1;32m     69\u001b[0m     \u001b[38;5;28;01mif\u001b[39;00m artist\u001b[38;5;241m.\u001b[39mget_agg_filter() \u001b[38;5;129;01mis\u001b[39;00m \u001b[38;5;129;01mnot\u001b[39;00m \u001b[38;5;28;01mNone\u001b[39;00m:\n\u001b[1;32m     70\u001b[0m         renderer\u001b[38;5;241m.\u001b[39mstart_filter()\n\u001b[0;32m---> 72\u001b[0m     \u001b[38;5;28;01mreturn\u001b[39;00m draw(artist, renderer)\n\u001b[1;32m     73\u001b[0m \u001b[38;5;28;01mfinally\u001b[39;00m:\n\u001b[1;32m     74\u001b[0m     \u001b[38;5;28;01mif\u001b[39;00m artist\u001b[38;5;241m.\u001b[39mget_agg_filter() \u001b[38;5;129;01mis\u001b[39;00m \u001b[38;5;129;01mnot\u001b[39;00m \u001b[38;5;28;01mNone\u001b[39;00m:\n",
                        "File \u001b[0;32m~/anaconda3/lib/python3.12/site-packages/matplotlib/figure.py:3162\u001b[0m, in \u001b[0;36mFigure.draw\u001b[0;34m(self, renderer)\u001b[0m\n\u001b[1;32m   3159\u001b[0m             \u001b[38;5;66;03m# ValueError can occur when resizing a window.\u001b[39;00m\n\u001b[1;32m   3161\u001b[0m     \u001b[38;5;28mself\u001b[39m\u001b[38;5;241m.\u001b[39mpatch\u001b[38;5;241m.\u001b[39mdraw(renderer)\n\u001b[0;32m-> 3162\u001b[0m     mimage\u001b[38;5;241m.\u001b[39m_draw_list_compositing_images(\n\u001b[1;32m   3163\u001b[0m         renderer, \u001b[38;5;28mself\u001b[39m, artists, \u001b[38;5;28mself\u001b[39m\u001b[38;5;241m.\u001b[39msuppressComposite)\n\u001b[1;32m   3165\u001b[0m     renderer\u001b[38;5;241m.\u001b[39mclose_group(\u001b[38;5;124m'\u001b[39m\u001b[38;5;124mfigure\u001b[39m\u001b[38;5;124m'\u001b[39m)\n\u001b[1;32m   3166\u001b[0m \u001b[38;5;28;01mfinally\u001b[39;00m:\n",
                        "File \u001b[0;32m~/anaconda3/lib/python3.12/site-packages/matplotlib/image.py:132\u001b[0m, in \u001b[0;36m_draw_list_compositing_images\u001b[0;34m(renderer, parent, artists, suppress_composite)\u001b[0m\n\u001b[1;32m    130\u001b[0m \u001b[38;5;28;01mif\u001b[39;00m not_composite \u001b[38;5;129;01mor\u001b[39;00m \u001b[38;5;129;01mnot\u001b[39;00m has_images:\n\u001b[1;32m    131\u001b[0m     \u001b[38;5;28;01mfor\u001b[39;00m a \u001b[38;5;129;01min\u001b[39;00m artists:\n\u001b[0;32m--> 132\u001b[0m         a\u001b[38;5;241m.\u001b[39mdraw(renderer)\n\u001b[1;32m    133\u001b[0m \u001b[38;5;28;01melse\u001b[39;00m:\n\u001b[1;32m    134\u001b[0m     \u001b[38;5;66;03m# Composite any adjacent images together\u001b[39;00m\n\u001b[1;32m    135\u001b[0m     image_group \u001b[38;5;241m=\u001b[39m []\n",
                        "File \u001b[0;32m~/anaconda3/lib/python3.12/site-packages/matplotlib/artist.py:72\u001b[0m, in \u001b[0;36mallow_rasterization.<locals>.draw_wrapper\u001b[0;34m(artist, renderer)\u001b[0m\n\u001b[1;32m     69\u001b[0m     \u001b[38;5;28;01mif\u001b[39;00m artist\u001b[38;5;241m.\u001b[39mget_agg_filter() \u001b[38;5;129;01mis\u001b[39;00m \u001b[38;5;129;01mnot\u001b[39;00m \u001b[38;5;28;01mNone\u001b[39;00m:\n\u001b[1;32m     70\u001b[0m         renderer\u001b[38;5;241m.\u001b[39mstart_filter()\n\u001b[0;32m---> 72\u001b[0m     \u001b[38;5;28;01mreturn\u001b[39;00m draw(artist, renderer)\n\u001b[1;32m     73\u001b[0m \u001b[38;5;28;01mfinally\u001b[39;00m:\n\u001b[1;32m     74\u001b[0m     \u001b[38;5;28;01mif\u001b[39;00m artist\u001b[38;5;241m.\u001b[39mget_agg_filter() \u001b[38;5;129;01mis\u001b[39;00m \u001b[38;5;129;01mnot\u001b[39;00m \u001b[38;5;28;01mNone\u001b[39;00m:\n",
                        "File \u001b[0;32m~/anaconda3/lib/python3.12/site-packages/matplotlib/axes/_base.py:3137\u001b[0m, in \u001b[0;36m_AxesBase.draw\u001b[0;34m(self, renderer)\u001b[0m\n\u001b[1;32m   3134\u001b[0m \u001b[38;5;28;01mif\u001b[39;00m artists_rasterized:\n\u001b[1;32m   3135\u001b[0m     _draw_rasterized(\u001b[38;5;28mself\u001b[39m\u001b[38;5;241m.\u001b[39mfigure, artists_rasterized, renderer)\n\u001b[0;32m-> 3137\u001b[0m mimage\u001b[38;5;241m.\u001b[39m_draw_list_compositing_images(\n\u001b[1;32m   3138\u001b[0m     renderer, \u001b[38;5;28mself\u001b[39m, artists, \u001b[38;5;28mself\u001b[39m\u001b[38;5;241m.\u001b[39mfigure\u001b[38;5;241m.\u001b[39msuppressComposite)\n\u001b[1;32m   3140\u001b[0m renderer\u001b[38;5;241m.\u001b[39mclose_group(\u001b[38;5;124m'\u001b[39m\u001b[38;5;124maxes\u001b[39m\u001b[38;5;124m'\u001b[39m)\n\u001b[1;32m   3141\u001b[0m \u001b[38;5;28mself\u001b[39m\u001b[38;5;241m.\u001b[39mstale \u001b[38;5;241m=\u001b[39m \u001b[38;5;28;01mFalse\u001b[39;00m\n",
                        "File \u001b[0;32m~/anaconda3/lib/python3.12/site-packages/matplotlib/image.py:132\u001b[0m, in \u001b[0;36m_draw_list_compositing_images\u001b[0;34m(renderer, parent, artists, suppress_composite)\u001b[0m\n\u001b[1;32m    130\u001b[0m \u001b[38;5;28;01mif\u001b[39;00m not_composite \u001b[38;5;129;01mor\u001b[39;00m \u001b[38;5;129;01mnot\u001b[39;00m has_images:\n\u001b[1;32m    131\u001b[0m     \u001b[38;5;28;01mfor\u001b[39;00m a \u001b[38;5;129;01min\u001b[39;00m artists:\n\u001b[0;32m--> 132\u001b[0m         a\u001b[38;5;241m.\u001b[39mdraw(renderer)\n\u001b[1;32m    133\u001b[0m \u001b[38;5;28;01melse\u001b[39;00m:\n\u001b[1;32m    134\u001b[0m     \u001b[38;5;66;03m# Composite any adjacent images together\u001b[39;00m\n\u001b[1;32m    135\u001b[0m     image_group \u001b[38;5;241m=\u001b[39m []\n",
                        "File \u001b[0;32m~/anaconda3/lib/python3.12/site-packages/matplotlib/artist.py:72\u001b[0m, in \u001b[0;36mallow_rasterization.<locals>.draw_wrapper\u001b[0;34m(artist, renderer)\u001b[0m\n\u001b[1;32m     69\u001b[0m     \u001b[38;5;28;01mif\u001b[39;00m artist\u001b[38;5;241m.\u001b[39mget_agg_filter() \u001b[38;5;129;01mis\u001b[39;00m \u001b[38;5;129;01mnot\u001b[39;00m \u001b[38;5;28;01mNone\u001b[39;00m:\n\u001b[1;32m     70\u001b[0m         renderer\u001b[38;5;241m.\u001b[39mstart_filter()\n\u001b[0;32m---> 72\u001b[0m     \u001b[38;5;28;01mreturn\u001b[39;00m draw(artist, renderer)\n\u001b[1;32m     73\u001b[0m \u001b[38;5;28;01mfinally\u001b[39;00m:\n\u001b[1;32m     74\u001b[0m     \u001b[38;5;28;01mif\u001b[39;00m artist\u001b[38;5;241m.\u001b[39mget_agg_filter() \u001b[38;5;129;01mis\u001b[39;00m \u001b[38;5;129;01mnot\u001b[39;00m \u001b[38;5;28;01mNone\u001b[39;00m:\n",
                        "File \u001b[0;32m~/anaconda3/lib/python3.12/site-packages/matplotlib/axis.py:1423\u001b[0m, in \u001b[0;36mAxis.draw\u001b[0;34m(self, renderer)\u001b[0m\n\u001b[1;32m   1420\u001b[0m     \u001b[38;5;28;01mreturn\u001b[39;00m\n\u001b[1;32m   1421\u001b[0m renderer\u001b[38;5;241m.\u001b[39mopen_group(\u001b[38;5;18m__name__\u001b[39m, gid\u001b[38;5;241m=\u001b[39m\u001b[38;5;28mself\u001b[39m\u001b[38;5;241m.\u001b[39mget_gid())\n\u001b[0;32m-> 1423\u001b[0m ticks_to_draw \u001b[38;5;241m=\u001b[39m \u001b[38;5;28mself\u001b[39m\u001b[38;5;241m.\u001b[39m_update_ticks()\n\u001b[1;32m   1424\u001b[0m tlb1, tlb2 \u001b[38;5;241m=\u001b[39m \u001b[38;5;28mself\u001b[39m\u001b[38;5;241m.\u001b[39m_get_ticklabel_bboxes(ticks_to_draw, renderer)\n\u001b[1;32m   1426\u001b[0m \u001b[38;5;28;01mfor\u001b[39;00m tick \u001b[38;5;129;01min\u001b[39;00m ticks_to_draw:\n",
                        "File \u001b[0;32m~/anaconda3/lib/python3.12/site-packages/matplotlib/axis.py:1302\u001b[0m, in \u001b[0;36mAxis._update_ticks\u001b[0;34m(self)\u001b[0m\n\u001b[1;32m   1300\u001b[0m major_locs \u001b[38;5;241m=\u001b[39m \u001b[38;5;28mself\u001b[39m\u001b[38;5;241m.\u001b[39mget_majorticklocs()\n\u001b[1;32m   1301\u001b[0m major_labels \u001b[38;5;241m=\u001b[39m \u001b[38;5;28mself\u001b[39m\u001b[38;5;241m.\u001b[39mmajor\u001b[38;5;241m.\u001b[39mformatter\u001b[38;5;241m.\u001b[39mformat_ticks(major_locs)\n\u001b[0;32m-> 1302\u001b[0m major_ticks \u001b[38;5;241m=\u001b[39m \u001b[38;5;28mself\u001b[39m\u001b[38;5;241m.\u001b[39mget_major_ticks(\u001b[38;5;28mlen\u001b[39m(major_locs))\n\u001b[1;32m   1303\u001b[0m \u001b[38;5;28;01mfor\u001b[39;00m tick, loc, label \u001b[38;5;129;01min\u001b[39;00m \u001b[38;5;28mzip\u001b[39m(major_ticks, major_locs, major_labels):\n\u001b[1;32m   1304\u001b[0m     tick\u001b[38;5;241m.\u001b[39mupdate_position(loc)\n",
                        "File \u001b[0;32m~/anaconda3/lib/python3.12/site-packages/matplotlib/axis.py:1670\u001b[0m, in \u001b[0;36mAxis.get_major_ticks\u001b[0;34m(self, numticks)\u001b[0m\n\u001b[1;32m   1666\u001b[0m     numticks \u001b[38;5;241m=\u001b[39m \u001b[38;5;28mlen\u001b[39m(\u001b[38;5;28mself\u001b[39m\u001b[38;5;241m.\u001b[39mget_majorticklocs())\n\u001b[1;32m   1668\u001b[0m \u001b[38;5;28;01mwhile\u001b[39;00m \u001b[38;5;28mlen\u001b[39m(\u001b[38;5;28mself\u001b[39m\u001b[38;5;241m.\u001b[39mmajorTicks) \u001b[38;5;241m<\u001b[39m numticks:\n\u001b[1;32m   1669\u001b[0m     \u001b[38;5;66;03m# Update the new tick label properties from the old.\u001b[39;00m\n\u001b[0;32m-> 1670\u001b[0m     tick \u001b[38;5;241m=\u001b[39m \u001b[38;5;28mself\u001b[39m\u001b[38;5;241m.\u001b[39m_get_tick(major\u001b[38;5;241m=\u001b[39m\u001b[38;5;28;01mTrue\u001b[39;00m)\n\u001b[1;32m   1671\u001b[0m     \u001b[38;5;28mself\u001b[39m\u001b[38;5;241m.\u001b[39mmajorTicks\u001b[38;5;241m.\u001b[39mappend(tick)\n\u001b[1;32m   1672\u001b[0m     \u001b[38;5;28mself\u001b[39m\u001b[38;5;241m.\u001b[39m_copy_tick_props(\u001b[38;5;28mself\u001b[39m\u001b[38;5;241m.\u001b[39mmajorTicks[\u001b[38;5;241m0\u001b[39m], tick)\n",
                        "File \u001b[0;32m~/anaconda3/lib/python3.12/site-packages/matplotlib/axis.py:1598\u001b[0m, in \u001b[0;36mAxis._get_tick\u001b[0;34m(self, major)\u001b[0m\n\u001b[1;32m   1594\u001b[0m     \u001b[38;5;28;01mraise\u001b[39;00m \u001b[38;5;167;01mNotImplementedError\u001b[39;00m(\n\u001b[1;32m   1595\u001b[0m         \u001b[38;5;124mf\u001b[39m\u001b[38;5;124m\"\u001b[39m\u001b[38;5;124mThe Axis subclass \u001b[39m\u001b[38;5;132;01m{\u001b[39;00m\u001b[38;5;28mself\u001b[39m\u001b[38;5;241m.\u001b[39m\u001b[38;5;18m__class__\u001b[39m\u001b[38;5;241m.\u001b[39m\u001b[38;5;18m__name__\u001b[39m\u001b[38;5;132;01m}\u001b[39;00m\u001b[38;5;124m must define \u001b[39m\u001b[38;5;124m\"\u001b[39m\n\u001b[1;32m   1596\u001b[0m         \u001b[38;5;124m\"\u001b[39m\u001b[38;5;124m_tick_class or reimplement _get_tick()\u001b[39m\u001b[38;5;124m\"\u001b[39m)\n\u001b[1;32m   1597\u001b[0m tick_kw \u001b[38;5;241m=\u001b[39m \u001b[38;5;28mself\u001b[39m\u001b[38;5;241m.\u001b[39m_major_tick_kw \u001b[38;5;28;01mif\u001b[39;00m major \u001b[38;5;28;01melse\u001b[39;00m \u001b[38;5;28mself\u001b[39m\u001b[38;5;241m.\u001b[39m_minor_tick_kw\n\u001b[0;32m-> 1598\u001b[0m \u001b[38;5;28;01mreturn\u001b[39;00m \u001b[38;5;28mself\u001b[39m\u001b[38;5;241m.\u001b[39m_tick_class(\u001b[38;5;28mself\u001b[39m\u001b[38;5;241m.\u001b[39maxes, \u001b[38;5;241m0\u001b[39m, major\u001b[38;5;241m=\u001b[39mmajor, \u001b[38;5;241m*\u001b[39m\u001b[38;5;241m*\u001b[39mtick_kw)\n",
                        "File \u001b[0;32m~/anaconda3/lib/python3.12/site-packages/matplotlib/axis.py:395\u001b[0m, in \u001b[0;36mXTick.__init__\u001b[0;34m(self, *args, **kwargs)\u001b[0m\n\u001b[1;32m    394\u001b[0m \u001b[38;5;28;01mdef\u001b[39;00m \u001b[38;5;21m__init__\u001b[39m(\u001b[38;5;28mself\u001b[39m, \u001b[38;5;241m*\u001b[39margs, \u001b[38;5;241m*\u001b[39m\u001b[38;5;241m*\u001b[39mkwargs):\n\u001b[0;32m--> 395\u001b[0m     \u001b[38;5;28msuper\u001b[39m()\u001b[38;5;241m.\u001b[39m\u001b[38;5;21m__init__\u001b[39m(\u001b[38;5;241m*\u001b[39margs, \u001b[38;5;241m*\u001b[39m\u001b[38;5;241m*\u001b[39mkwargs)\n\u001b[1;32m    396\u001b[0m     \u001b[38;5;66;03m# x in data coords, y in axes coords\u001b[39;00m\n\u001b[1;32m    397\u001b[0m     ax \u001b[38;5;241m=\u001b[39m \u001b[38;5;28mself\u001b[39m\u001b[38;5;241m.\u001b[39maxes\n",
                        "File \u001b[0;32m~/anaconda3/lib/python3.12/site-packages/matplotlib/axis.py:172\u001b[0m, in \u001b[0;36mTick.__init__\u001b[0;34m(self, axes, loc, size, width, color, tickdir, pad, labelsize, labelcolor, labelfontfamily, zorder, gridOn, tick1On, tick2On, label1On, label2On, major, labelrotation, grid_color, grid_linestyle, grid_linewidth, grid_alpha, **kwargs)\u001b[0m\n\u001b[1;32m    164\u001b[0m \u001b[38;5;28mself\u001b[39m\u001b[38;5;241m.\u001b[39mgridline \u001b[38;5;241m=\u001b[39m mlines\u001b[38;5;241m.\u001b[39mLine2D(\n\u001b[1;32m    165\u001b[0m     [], [],\n\u001b[1;32m    166\u001b[0m     color\u001b[38;5;241m=\u001b[39mgrid_color, alpha\u001b[38;5;241m=\u001b[39mgrid_alpha, visible\u001b[38;5;241m=\u001b[39mgridOn,\n\u001b[1;32m    167\u001b[0m     linestyle\u001b[38;5;241m=\u001b[39mgrid_linestyle, linewidth\u001b[38;5;241m=\u001b[39mgrid_linewidth, marker\u001b[38;5;241m=\u001b[39m\u001b[38;5;124m\"\u001b[39m\u001b[38;5;124m\"\u001b[39m,\n\u001b[1;32m    168\u001b[0m     \u001b[38;5;241m*\u001b[39m\u001b[38;5;241m*\u001b[39mgrid_kw,\n\u001b[1;32m    169\u001b[0m )\n\u001b[1;32m    170\u001b[0m \u001b[38;5;28mself\u001b[39m\u001b[38;5;241m.\u001b[39mgridline\u001b[38;5;241m.\u001b[39mget_path()\u001b[38;5;241m.\u001b[39m_interpolation_steps \u001b[38;5;241m=\u001b[39m \\\n\u001b[1;32m    171\u001b[0m     GRIDLINE_INTERPOLATION_STEPS\n\u001b[0;32m--> 172\u001b[0m \u001b[38;5;28mself\u001b[39m\u001b[38;5;241m.\u001b[39mlabel1 \u001b[38;5;241m=\u001b[39m mtext\u001b[38;5;241m.\u001b[39mText(\n\u001b[1;32m    173\u001b[0m     np\u001b[38;5;241m.\u001b[39mnan, np\u001b[38;5;241m.\u001b[39mnan,\n\u001b[1;32m    174\u001b[0m     fontsize\u001b[38;5;241m=\u001b[39mlabelsize, color\u001b[38;5;241m=\u001b[39mlabelcolor, visible\u001b[38;5;241m=\u001b[39mlabel1On,\n\u001b[1;32m    175\u001b[0m     fontfamily\u001b[38;5;241m=\u001b[39mlabelfontfamily, rotation\u001b[38;5;241m=\u001b[39m\u001b[38;5;28mself\u001b[39m\u001b[38;5;241m.\u001b[39m_labelrotation[\u001b[38;5;241m1\u001b[39m])\n\u001b[1;32m    176\u001b[0m \u001b[38;5;28mself\u001b[39m\u001b[38;5;241m.\u001b[39mlabel2 \u001b[38;5;241m=\u001b[39m mtext\u001b[38;5;241m.\u001b[39mText(\n\u001b[1;32m    177\u001b[0m     np\u001b[38;5;241m.\u001b[39mnan, np\u001b[38;5;241m.\u001b[39mnan,\n\u001b[1;32m    178\u001b[0m     fontsize\u001b[38;5;241m=\u001b[39mlabelsize, color\u001b[38;5;241m=\u001b[39mlabelcolor, visible\u001b[38;5;241m=\u001b[39mlabel2On,\n\u001b[1;32m    179\u001b[0m     fontfamily\u001b[38;5;241m=\u001b[39mlabelfontfamily, rotation\u001b[38;5;241m=\u001b[39m\u001b[38;5;28mself\u001b[39m\u001b[38;5;241m.\u001b[39m_labelrotation[\u001b[38;5;241m1\u001b[39m])\n\u001b[1;32m    181\u001b[0m \u001b[38;5;28mself\u001b[39m\u001b[38;5;241m.\u001b[39m_apply_tickdir(tickdir)\n",
                        "File \u001b[0;32m~/anaconda3/lib/python3.12/site-packages/matplotlib/text.py:155\u001b[0m, in \u001b[0;36mText.__init__\u001b[0;34m(self, x, y, text, color, verticalalignment, horizontalalignment, multialignment, fontproperties, rotation, linespacing, rotation_mode, usetex, wrap, transform_rotates_text, parse_math, antialiased, **kwargs)\u001b[0m\n\u001b[1;32m    138\u001b[0m \u001b[38;5;28mself\u001b[39m\u001b[38;5;241m.\u001b[39m_text \u001b[38;5;241m=\u001b[39m \u001b[38;5;124m'\u001b[39m\u001b[38;5;124m'\u001b[39m\n\u001b[1;32m    139\u001b[0m \u001b[38;5;28mself\u001b[39m\u001b[38;5;241m.\u001b[39m_reset_visual_defaults(\n\u001b[1;32m    140\u001b[0m     text\u001b[38;5;241m=\u001b[39mtext,\n\u001b[1;32m    141\u001b[0m     color\u001b[38;5;241m=\u001b[39mcolor,\n\u001b[0;32m   (...)\u001b[0m\n\u001b[1;32m    153\u001b[0m     antialiased\u001b[38;5;241m=\u001b[39mantialiased\n\u001b[1;32m    154\u001b[0m )\n\u001b[0;32m--> 155\u001b[0m \u001b[38;5;28mself\u001b[39m\u001b[38;5;241m.\u001b[39mupdate(kwargs)\n",
                        "File \u001b[0;32m~/anaconda3/lib/python3.12/site-packages/matplotlib/text.py:197\u001b[0m, in \u001b[0;36mText.update\u001b[0;34m(self, kwargs)\u001b[0m\n\u001b[1;32m    194\u001b[0m \u001b[38;5;28;01mdef\u001b[39;00m \u001b[38;5;21mupdate\u001b[39m(\u001b[38;5;28mself\u001b[39m, kwargs):\n\u001b[1;32m    195\u001b[0m     \u001b[38;5;66;03m# docstring inherited\u001b[39;00m\n\u001b[1;32m    196\u001b[0m     ret \u001b[38;5;241m=\u001b[39m []\n\u001b[0;32m--> 197\u001b[0m     kwargs \u001b[38;5;241m=\u001b[39m cbook\u001b[38;5;241m.\u001b[39mnormalize_kwargs(kwargs, Text)\n\u001b[1;32m    198\u001b[0m     sentinel \u001b[38;5;241m=\u001b[39m \u001b[38;5;28mobject\u001b[39m()  \u001b[38;5;66;03m# bbox can be None, so use another sentinel.\u001b[39;00m\n\u001b[1;32m    199\u001b[0m     \u001b[38;5;66;03m# Update fontproperties first, as it has lowest priority.\u001b[39;00m\n",
                        "File \u001b[0;32m~/anaconda3/lib/python3.12/site-packages/matplotlib/cbook.py:1835\u001b[0m, in \u001b[0;36mnormalize_kwargs\u001b[0;34m(kw, alias_mapping)\u001b[0m\n\u001b[1;32m   1830\u001b[0m \u001b[38;5;28;01melif\u001b[39;00m (\u001b[38;5;28misinstance\u001b[39m(alias_mapping, \u001b[38;5;28mtype\u001b[39m) \u001b[38;5;129;01mand\u001b[39;00m \u001b[38;5;28missubclass\u001b[39m(alias_mapping, Artist)\n\u001b[1;32m   1831\u001b[0m       \u001b[38;5;129;01mor\u001b[39;00m \u001b[38;5;28misinstance\u001b[39m(alias_mapping, Artist)):\n\u001b[1;32m   1832\u001b[0m     alias_mapping \u001b[38;5;241m=\u001b[39m \u001b[38;5;28mgetattr\u001b[39m(alias_mapping, \u001b[38;5;124m\"\u001b[39m\u001b[38;5;124m_alias_map\u001b[39m\u001b[38;5;124m\"\u001b[39m, {})\n\u001b[1;32m   1834\u001b[0m to_canonical \u001b[38;5;241m=\u001b[39m {alias: canonical\n\u001b[0;32m-> 1835\u001b[0m                 \u001b[38;5;28;01mfor\u001b[39;00m canonical, alias_list \u001b[38;5;129;01min\u001b[39;00m alias_mapping\u001b[38;5;241m.\u001b[39mitems()\n\u001b[1;32m   1836\u001b[0m                 \u001b[38;5;28;01mfor\u001b[39;00m alias \u001b[38;5;129;01min\u001b[39;00m alias_list}\n\u001b[1;32m   1837\u001b[0m canonical_to_seen \u001b[38;5;241m=\u001b[39m {}\n\u001b[1;32m   1838\u001b[0m ret \u001b[38;5;241m=\u001b[39m {}  \u001b[38;5;66;03m# output dictionary\u001b[39;00m\n",
                        "\u001b[0;31mKeyboardInterrupt\u001b[0m: "
                    ]
                }
            ],
            "source": [
                "plt.figure(figsize=(15, 5))\n",
                "for i, col in enumerate(categorical_cols[:3]):\n",
                "    plt.subplot(1, 3, i + 1)\n",
                "    sns.barplot(data=df_retail, y=col)\n",
                "    plt.title(f\"Count of {col}\")\n",
                "plt.tight_layout()\n",
                "plt.show()"
            ]
        }
    ],
    "metadata": {
        "kernelspec": {
            "display_name": "base",
            "language": "python",
            "name": "python3"
        },
        "language_info": {
            "codemirror_mode": {
                "name": "ipython",
                "version": 3
            },
            "file_extension": ".py",
            "mimetype": "text/x-python",
            "name": "python",
            "nbconvert_exporter": "python",
            "pygments_lexer": "ipython3",
            "version": "3.12.7"
        }
    },
    "nbformat": 4,
    "nbformat_minor": 5
}